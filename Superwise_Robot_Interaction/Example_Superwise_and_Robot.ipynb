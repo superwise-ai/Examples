{
 "cells": [
  {
   "cell_type": "markdown",
   "metadata": {
    "id": "6fBs_slgav8S"
   },
   "source": [
    "![Picture1.png](data:image/png;base64,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)\n",
    "\n",
    "# **Example:  Applying a Superwise Natural Language Conversion, Guardrails, and Monitoring to a live Robot**"
   ]
  },
  {
   "cell_type": "markdown",
   "metadata": {
    "id": "qfB4uPOEfV36"
   },
   "source": [
    "This example shows how a Live Robot interaction can be commanded, protected and monitored using Superwise.  In this particular case we are using some basic ROS (https://www.ros.org/) commands to drive a TurtleBot3.  Superwise is taking in natural language and converting the text to commands that can be used to control the Robot.  Superwise is also applying Guardrails to prevent natural language input that is not wanted or pertinent to the scenario.  Superwise is also Monitoring the interactions input to the Robot.  This is a very basic implementation just to illustrate the power of Superwise AI being applied to Physical Systems.  Let's get started."
   ]
  },
  {
   "cell_type": "markdown",
   "metadata": {
    "id": "OHy20OsydD2u"
   },
   "source": [
    "# **Create the Environment to Access the Live Robot**"
   ]
  },
  {
   "cell_type": "markdown",
   "metadata": {
    "id": "xR31hBL3hZIp"
   },
   "source": [
    "**Create an account at: https://www.theconstruct.ai/ Then access the Python Basics Rosject**"
   ]
  },
  {
   "cell_type": "markdown",
   "metadata": {},
   "source": [
    "![alt text](Construct_Rosject_to_Access.png \"Access to Project\")"
   ]
  },
  {
   "cell_type": "markdown",
   "metadata": {
    "id": "aEfitlj-m2kM"
   },
   "source": [
    "# **Create the Superwise Agent that interacts with the Robot**"
   ]
  },
  {
   "cell_type": "markdown",
   "metadata": {
    "id": "KMiKIlK1nR1M"
   },
   "source": [
    "Note that this is a small subset of all you can do with Superwise.  \n",
    "For complete Superwise capabilities visit: https://docs-swe.superwise.ai/\n",
    "Follow the instructions to create an applications here:  https://docs-swe.superwise.ai/docs/build-application.\n",
    "For your prompt in your Superwise application use:  \"Return the velocity that is input.  Only return the decimal value of the velocity in meters per second.\"\n",
    "Make sure and note the applications app_id and app_token"
   ]
  },
  {
   "cell_type": "markdown",
   "metadata": {},
   "source": [
    "![alt text](Superwise_Docs.png \"Access to Project\")"
   ]
  },
  {
   "cell_type": "markdown",
   "metadata": {
    "id": "P0Ab1wAxEfnI"
   },
   "source": [
    "Implement two guardrails to be leveraged in the application per the instructions here:  https://docs-swe.superwise.ai/docs/guardrails\n",
    "For the first guardrail create an Allowed Topics Guardrail called \"Velocity\" with an Allowed Topic of \"A Velocity must be included in the input\".  For the second guardrail create an Allowed Topics Guardrail called \"Right Turns\" with an Allowed topic of \"Only allow topics on 'turning right'\"."
   ]
  },
  {
   "cell_type": "markdown",
   "metadata": {},
   "source": [
    "# **Write the Script that Accesses the Superwise Agent and Interacts with ROS and the live Robot**"
   ]
  },
  {
   "cell_type": "markdown",
   "metadata": {
    "id": "40C-w_7uF0wk"
   },
   "source": [
    "Back in the Rosject from the above, on the command line type: \"cd ros2_ws/src/python_basics_project/python_basics_project\"  and create (touch) a new python file with a name you choose"
   ]
  },
  {
   "cell_type": "code",
   "execution_count": 23,
   "metadata": {
    "id": "IWcpAbN1GOzf"
   },
   "outputs": [],
   "source": [
    "#In the Rosject IDE navigate to an open that file and paste in the following code:\n",
    "\n",
    "#!/usr/bin/python3\n",
    "\n",
    "# python imports\n",
    "import time\n",
    "import threading\n",
    "import traceback\n",
    "# ros2 imports\n",
    "import rclpy\n",
    "from rclpy.executors import MultiThreadedExecutor\n",
    "# module imports\n",
    "from robot_interface import RobotInterface\n",
    "# superwise imports\n",
    "import requests\n",
    "\n",
    "\n",
    "#~#~#~#~#~# start your function definitions after this line #~#~#~#~#~#\n",
    "\n",
    "def sample_move(linear, angular):\n",
    "    # sample function to move the robot\n",
    "    # this function can be deleted later!\n",
    "    global robot_interface\n",
    "    robot_interface.linear_velocity = linear\n",
    "    robot_interface.angular_velocity = angular\n",
    "    return None\n",
    "\n",
    "#~#~#~#~#~# finish your function definitions before this line #~#~#~#~#~#\n",
    "\n",
    "def spin_node():\n",
    "    \"\"\"\n",
    "    make the robot interface program to run in a separate thread\n",
    "    NOTE: THE ROBOT WILL NOT WORK IF THIS FUNCTION IS REMOVED !!!\n",
    "    \"\"\"\n",
    "    global executor\n",
    "    executor.spin()\n",
    "    return None\n",
    "\n",
    "app_id = \"<your Superwise Application App ID>\"\n",
    "app_token = \"<your Superwise Application App Token\"\n",
    "\n",
    "#test the agent with the updated guardrail\n",
    "def ask_application_via_api(app_id, user_input):\n",
    "  endpoint_url = f\"https://api.superwise.ai/v1/app-worker/{app_id}/v1/ask\"\n",
    "\n",
    "  payload = {\n",
    "    \"chat_history\": [],\n",
    "    \"input\": user_input\n",
    "    #\"prompt\": employee_assign_prompt\n",
    "  }\n",
    "\n",
    "  headers = {\n",
    "    \"accept\": \"application/json\",\n",
    "    \"content-type\": \"application/json\",\n",
    "    \"x-api-token\": app_token\n",
    "    }\n",
    "\n",
    "  resp = requests.post(endpoint_url, json=payload, headers=headers)\n",
    "  app_response = resp.json()\n",
    "  return app_response\n",
    "\n",
    "\n",
    "if __name__ == \"__main__\":\n",
    "\n",
    "    # initialize ros2 with python\n",
    "    rclpy.init(args=None)\n",
    "    # instantiate robot interface program module\n",
    "    robot_interface = RobotInterface()\n",
    "    # start robot interface program execution\n",
    "    executor = MultiThreadedExecutor(num_threads=6)\n",
    "    executor.add_node(robot_interface)\n",
    "    # run robot interface program in a separate thread\n",
    "    threading.Thread(target=spin_node).start()\n",
    "    # wait for a few seconds for program to initialize\n",
    "    print(\"Getting Ready in 5 Seconds...\")\n",
    "    time.sleep(5.0)\n",
    "    print(\"READY !!!\")\n",
    "\n",
    "    #linear_velocity = input(\"Please enter the speed in meters per second: \")\n",
    "    #print(\"You entered: \" + linear_velocity + \" m/s\")\n",
    "    #lv = float(linear_velocity)\n",
    "\n",
    "    while True:\n",
    "        user_input = input(\"Enter your command: \")\n",
    "        swe_answer = ask_application_via_api(app_id, user_input)\n",
    "        print(swe_answer)\n",
    "        if swe_answer['output'] == \"Attention: Your message has been blocked due to a guardrail violation. Please rephrase your message and try again.\":\n",
    "            print(\"Guardrail violation detected. Please try again.\")\n",
    "        else: \n",
    "            break\n",
    "        time.sleep(1)  # Add a small delay before prompting again\n",
    "\n",
    "    lv = float(swe_answer['output'])\n",
    "\n",
    "    try:\n",
    "        #~#~#~#~#~# start your program after this line #~#~#~#~#~#\n",
    "\n",
    "        #~#~#~#~#~# write code here to run only once #~#~#~#~#~#\n",
    "        sample_move(lv, 0.000)\n",
    "        time.sleep(14.0)\n",
    "        sample_move(0.000, -0.22)\n",
    "        time.sleep(11.0)\n",
    "        sample_move(0.000, 0.000)\n",
    "        time.sleep(5)\n",
    "        sample_move(lv, 0.000)\n",
    "        time.sleep(9)\n",
    "        sample_move(0.000, 0.000)\n",
    "\n",
    "        #~#~#~#~#~# write code here to run continuously #~#~#~#~#~#\n",
    "        while True:\n",
    "            sample_move(0.000, 0.000)\n",
    "            time.sleep(5.0)\n",
    "            break\n",
    "        #    sample_move(0.000, 0.000)\n",
    "        #    time.sleep(1.0)\n",
    "        \n",
    "        #~#~#~#~#~# finish your program before this line #~#~#~#~#~#\n",
    "\n",
    "    except Exception as error:\n",
    "        # report exception\n",
    "        print(\"~~~~~~~~~~~ ERROR: ~~~~~~~~~~~\")\n",
    "        print(traceback.print_exception(error))\n",
    "        print(\"~~~~~~~~~~~~~~~~~~~~~~~~~~~~~~\")\n",
    "        # clean up before shutdown\n",
    "        executor.shutdown()\n",
    "        robot_interface.destroy_node()\n",
    "\n",
    "    finally:\n",
    "        # shutdown ros2\n",
    "        rclpy.shutdown()\n",
    "\n",
    "# End of Code"
   ]
  },
  {
   "cell_type": "markdown",
   "metadata": {
    "colab": {
     "base_uri": "https://localhost:8080/"
    },
    "id": "YyDkGDRxGcwh",
    "outputId": "944bda6a-30ef-4e15-8787-6a44720d1a64"
   },
   "source": [
    "Follow the Rosject Instructions to Connect to the Simulation Environment and Test the Above Python Script\n",
    "On the Command Line use \"Python3 \"name_of_your_file.py\""
   ]
  },
  {
   "cell_type": "markdown",
   "metadata": {
    "colab": {
     "base_uri": "https://localhost:8080/"
    },
    "id": "ZYOX_2pNinvf",
    "outputId": "d9528b22-f2bf-4da7-a362-eb4eba4e27dd"
   },
   "source": [
    "Follow the Rosject Instructions to reserve time on the live TurtleBot3.  When the Schedule Time comes, follow the Rosject Instructions to access the Live TurtleBot3 and run your above script on it.  The below video is an example of this running."
   ]
  },
  {
   "cell_type": "code",
   "execution_count": 2,
   "metadata": {},
   "outputs": [
    {
     "data": {
      "text/html": [
       "<video width=400 controls>\n",
       "  <source src=\"Superwise_with_live_Robot.mp4\" type=\"video/mp4\">\n",
       "</video>\n"
      ],
      "text/plain": [
       "<IPython.core.display.HTML object>"
      ]
     },
     "metadata": {},
     "output_type": "display_data"
    }
   ],
   "source": [
    "%%HTML\n",
    "<video width=400 controls>\n",
    "  <source src=\"Superwise_with_live_Robot.mp4\" type=\"video/mp4\">\n",
    "</video>"
   ]
  },
  {
   "cell_type": "markdown",
   "metadata": {
    "id": "VzXywM7Bjaa7"
   },
   "source": [
    "<video controls src=\"Superwise_with_live_Robot.mp4\" />"
   ]
  },
  {
   "cell_type": "markdown",
   "metadata": {
    "colab": {
     "base_uri": "https://localhost:8080/",
     "height": 107
    },
    "id": "iY688qUiVma5",
    "outputId": "496f8cf2-ba5d-446f-bf77-138a0dba72e2"
   },
   "source": [
    "# **Use Superwise to monitor the interactions with the Robot**"
   ]
  },
  {
   "cell_type": "markdown",
   "metadata": {
    "id": "rvTRKD9_Vm0r"
   },
   "source": [
    "There are many things that you can Observe, Monitor, and Alert with Superwise.  Superwise automatically tracks all the interactions.  You can read about it here:  https://docs-swe.superwise.ai/docs/observability.  The below is a simple dashboard to monitor guardrail violations using the following instruction:  https://docs-swe.superwise.ai/docs/create-dashboard"
   ]
  },
  {
   "cell_type": "markdown",
   "metadata": {
    "colab": {
     "base_uri": "https://localhost:8080/",
     "height": 53
    },
    "id": "g4ooZ7mEbFb3",
    "outputId": "47f23e46-7894-4825-dc96-c464ea681597"
   },
   "source": [
    "![alt text](Superwise_Guardrail_Dashboard.png \"Superwise Guardrail Dashboard\")"
   ]
  },
  {
   "cell_type": "markdown",
   "metadata": {
    "id": "a3bz30CqqmZC"
   },
   "source": [
    "# **This is just a basic example.  There are many more things you would do with a real Superwise AI Physical Interaction with a Robot."
   ]
  },
  {
   "cell_type": "code",
   "execution_count": 46,
   "metadata": {
    "id": "lnev5UXPsS8k"
   },
   "outputs": [],
   "source": []
  }
 ],
 "metadata": {
  "colab": {
   "provenance": []
  },
  "kernelspec": {
   "display_name": "Python 3 (ipykernel)",
   "language": "python",
   "name": "python3"
  },
  "language_info": {
   "codemirror_mode": {
    "name": "ipython",
    "version": 3
   },
   "file_extension": ".py",
   "mimetype": "text/x-python",
   "name": "python",
   "nbconvert_exporter": "python",
   "pygments_lexer": "ipython3",
   "version": "3.10.12"
  }
 },
 "nbformat": 4,
 "nbformat_minor": 4
}
