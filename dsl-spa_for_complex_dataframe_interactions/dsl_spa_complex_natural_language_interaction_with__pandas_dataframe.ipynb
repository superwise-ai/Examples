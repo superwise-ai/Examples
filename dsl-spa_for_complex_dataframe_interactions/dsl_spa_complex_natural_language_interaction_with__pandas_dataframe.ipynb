{
  "nbformat": 4,
  "nbformat_minor": 0,
  "metadata": {
    "colab": {
      "provenance": []
    },
    "kernelspec": {
      "name": "python3",
      "display_name": "Python 3"
    },
    "language_info": {
      "name": "python"
    }
  },
  "cells": [
    {
      "cell_type": "markdown",
      "source": [
        "![Picture1.png](data:image/png;base64,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)\n",
        "\n",
        "# **Example:  dsl-spa complex natural language interaction with a pandas dataframe**"
      ],
      "metadata": {
        "id": "6fBs_slgav8S"
      }
    },
    {
      "cell_type": "markdown",
      "source": [
        "This example shows that while natural language interaction with a dataset, i.e. a pandas dataframe or an sql database, can work fine for simple requests of the data, when queries become more complex a request to an LLM does not return a result.  [dsl-spa](https://github.com/superwise-ai/dsl-spa) is an open source capability that in addition to other capabilities addresses this problem.\n",
        "\n",
        "In this example, we will interact with a simple dataframe using an LLM.  We will show the challenge with a complex query.  Then employ dsl-spa to address this challenge.  Let's get started!"
      ],
      "metadata": {
        "id": "qfB4uPOEfV36"
      }
    },
    {
      "cell_type": "markdown",
      "source": [
        "#**Ask simple and more complex natural language questions of a Pandas Dataframe**"
      ],
      "metadata": {
        "id": "OHy20OsydD2u"
      }
    },
    {
      "cell_type": "markdown",
      "source": [
        "**Load the dataframe**\n",
        "For this illustration we created a simple pandas dataframe that consists of look ups of letters in the alphabet and look ups of the phoenetic word for the alphabet."
      ],
      "metadata": {
        "id": "xR31hBL3hZIp"
      }
    },
    {
      "cell_type": "code",
      "source": [
        "import pandas as pd"
      ],
      "metadata": {
        "id": "WXHcPuzv5cpq"
      },
      "execution_count": 1,
      "outputs": []
    },
    {
      "cell_type": "code",
      "source": [
        "alpha_phonetic_pd = pd.DataFrame({\n",
        "    'col1' : [1,2,3,4,5,6,7,8,9,10],\n",
        "    'col2' : ['A', 'B', 'C', 'D', 'E', 'F', 'G', 'H', 'I', 'J'],\n",
        "    'col3' : [10,9,8,7,6,5,4,3,2,1],\n",
        "    'col4' : ['Juliett', 'India', 'Hotel', 'Gulf', 'Foxtrot', 'Echo', 'Delta', 'Charlie', 'Bravo', 'Alpha']\n",
        "})"
      ],
      "metadata": {
        "id": "zgWGMnE07S3r"
      },
      "execution_count": 2,
      "outputs": []
    },
    {
      "cell_type": "code",
      "source": [
        "alpha_phonetic_pd.head()"
      ],
      "metadata": {
        "id": "yK952YbWiNON",
        "colab": {
          "base_uri": "https://localhost:8080/",
          "height": 206
        },
        "outputId": "70160e97-f85d-4b0b-c177-ecd2d6913e19"
      },
      "execution_count": 3,
      "outputs": [
        {
          "output_type": "execute_result",
          "data": {
            "text/plain": [
              "   col1 col2  col3     col4\n",
              "0     1    A    10  Juliett\n",
              "1     2    B     9    India\n",
              "2     3    C     8    Hotel\n",
              "3     4    D     7     Gulf\n",
              "4     5    E     6  Foxtrot"
            ],
            "text/html": [
              "\n",
              "  <div id=\"df-4ce3eb28-5f3c-4d60-b63d-a17ae4e27e38\" class=\"colab-df-container\">\n",
              "    <div>\n",
              "<style scoped>\n",
              "    .dataframe tbody tr th:only-of-type {\n",
              "        vertical-align: middle;\n",
              "    }\n",
              "\n",
              "    .dataframe tbody tr th {\n",
              "        vertical-align: top;\n",
              "    }\n",
              "\n",
              "    .dataframe thead th {\n",
              "        text-align: right;\n",
              "    }\n",
              "</style>\n",
              "<table border=\"1\" class=\"dataframe\">\n",
              "  <thead>\n",
              "    <tr style=\"text-align: right;\">\n",
              "      <th></th>\n",
              "      <th>col1</th>\n",
              "      <th>col2</th>\n",
              "      <th>col3</th>\n",
              "      <th>col4</th>\n",
              "    </tr>\n",
              "  </thead>\n",
              "  <tbody>\n",
              "    <tr>\n",
              "      <th>0</th>\n",
              "      <td>1</td>\n",
              "      <td>A</td>\n",
              "      <td>10</td>\n",
              "      <td>Juliett</td>\n",
              "    </tr>\n",
              "    <tr>\n",
              "      <th>1</th>\n",
              "      <td>2</td>\n",
              "      <td>B</td>\n",
              "      <td>9</td>\n",
              "      <td>India</td>\n",
              "    </tr>\n",
              "    <tr>\n",
              "      <th>2</th>\n",
              "      <td>3</td>\n",
              "      <td>C</td>\n",
              "      <td>8</td>\n",
              "      <td>Hotel</td>\n",
              "    </tr>\n",
              "    <tr>\n",
              "      <th>3</th>\n",
              "      <td>4</td>\n",
              "      <td>D</td>\n",
              "      <td>7</td>\n",
              "      <td>Gulf</td>\n",
              "    </tr>\n",
              "    <tr>\n",
              "      <th>4</th>\n",
              "      <td>5</td>\n",
              "      <td>E</td>\n",
              "      <td>6</td>\n",
              "      <td>Foxtrot</td>\n",
              "    </tr>\n",
              "  </tbody>\n",
              "</table>\n",
              "</div>\n",
              "    <div class=\"colab-df-buttons\">\n",
              "\n",
              "  <div class=\"colab-df-container\">\n",
              "    <button class=\"colab-df-convert\" onclick=\"convertToInteractive('df-4ce3eb28-5f3c-4d60-b63d-a17ae4e27e38')\"\n",
              "            title=\"Convert this dataframe to an interactive table.\"\n",
              "            style=\"display:none;\">\n",
              "\n",
              "  <svg xmlns=\"http://www.w3.org/2000/svg\" height=\"24px\" viewBox=\"0 -960 960 960\">\n",
              "    <path d=\"M120-120v-720h720v720H120Zm60-500h600v-160H180v160Zm220 220h160v-160H400v160Zm0 220h160v-160H400v160ZM180-400h160v-160H180v160Zm440 0h160v-160H620v160ZM180-180h160v-160H180v160Zm440 0h160v-160H620v160Z\"/>\n",
              "  </svg>\n",
              "    </button>\n",
              "\n",
              "  <style>\n",
              "    .colab-df-container {\n",
              "      display:flex;\n",
              "      gap: 12px;\n",
              "    }\n",
              "\n",
              "    .colab-df-convert {\n",
              "      background-color: #E8F0FE;\n",
              "      border: none;\n",
              "      border-radius: 50%;\n",
              "      cursor: pointer;\n",
              "      display: none;\n",
              "      fill: #1967D2;\n",
              "      height: 32px;\n",
              "      padding: 0 0 0 0;\n",
              "      width: 32px;\n",
              "    }\n",
              "\n",
              "    .colab-df-convert:hover {\n",
              "      background-color: #E2EBFA;\n",
              "      box-shadow: 0px 1px 2px rgba(60, 64, 67, 0.3), 0px 1px 3px 1px rgba(60, 64, 67, 0.15);\n",
              "      fill: #174EA6;\n",
              "    }\n",
              "\n",
              "    .colab-df-buttons div {\n",
              "      margin-bottom: 4px;\n",
              "    }\n",
              "\n",
              "    [theme=dark] .colab-df-convert {\n",
              "      background-color: #3B4455;\n",
              "      fill: #D2E3FC;\n",
              "    }\n",
              "\n",
              "    [theme=dark] .colab-df-convert:hover {\n",
              "      background-color: #434B5C;\n",
              "      box-shadow: 0px 1px 3px 1px rgba(0, 0, 0, 0.15);\n",
              "      filter: drop-shadow(0px 1px 2px rgba(0, 0, 0, 0.3));\n",
              "      fill: #FFFFFF;\n",
              "    }\n",
              "  </style>\n",
              "\n",
              "    <script>\n",
              "      const buttonEl =\n",
              "        document.querySelector('#df-4ce3eb28-5f3c-4d60-b63d-a17ae4e27e38 button.colab-df-convert');\n",
              "      buttonEl.style.display =\n",
              "        google.colab.kernel.accessAllowed ? 'block' : 'none';\n",
              "\n",
              "      async function convertToInteractive(key) {\n",
              "        const element = document.querySelector('#df-4ce3eb28-5f3c-4d60-b63d-a17ae4e27e38');\n",
              "        const dataTable =\n",
              "          await google.colab.kernel.invokeFunction('convertToInteractive',\n",
              "                                                    [key], {});\n",
              "        if (!dataTable) return;\n",
              "\n",
              "        const docLinkHtml = 'Like what you see? Visit the ' +\n",
              "          '<a target=\"_blank\" href=https://colab.research.google.com/notebooks/data_table.ipynb>data table notebook</a>'\n",
              "          + ' to learn more about interactive tables.';\n",
              "        element.innerHTML = '';\n",
              "        dataTable['output_type'] = 'display_data';\n",
              "        await google.colab.output.renderOutput(dataTable, element);\n",
              "        const docLink = document.createElement('div');\n",
              "        docLink.innerHTML = docLinkHtml;\n",
              "        element.appendChild(docLink);\n",
              "      }\n",
              "    </script>\n",
              "  </div>\n",
              "\n",
              "\n",
              "    <div id=\"df-d517cc23-1bd5-43b7-b2bc-15ed6bb12238\">\n",
              "      <button class=\"colab-df-quickchart\" onclick=\"quickchart('df-d517cc23-1bd5-43b7-b2bc-15ed6bb12238')\"\n",
              "                title=\"Suggest charts\"\n",
              "                style=\"display:none;\">\n",
              "\n",
              "<svg xmlns=\"http://www.w3.org/2000/svg\" height=\"24px\"viewBox=\"0 0 24 24\"\n",
              "     width=\"24px\">\n",
              "    <g>\n",
              "        <path d=\"M19 3H5c-1.1 0-2 .9-2 2v14c0 1.1.9 2 2 2h14c1.1 0 2-.9 2-2V5c0-1.1-.9-2-2-2zM9 17H7v-7h2v7zm4 0h-2V7h2v10zm4 0h-2v-4h2v4z\"/>\n",
              "    </g>\n",
              "</svg>\n",
              "      </button>\n",
              "\n",
              "<style>\n",
              "  .colab-df-quickchart {\n",
              "      --bg-color: #E8F0FE;\n",
              "      --fill-color: #1967D2;\n",
              "      --hover-bg-color: #E2EBFA;\n",
              "      --hover-fill-color: #174EA6;\n",
              "      --disabled-fill-color: #AAA;\n",
              "      --disabled-bg-color: #DDD;\n",
              "  }\n",
              "\n",
              "  [theme=dark] .colab-df-quickchart {\n",
              "      --bg-color: #3B4455;\n",
              "      --fill-color: #D2E3FC;\n",
              "      --hover-bg-color: #434B5C;\n",
              "      --hover-fill-color: #FFFFFF;\n",
              "      --disabled-bg-color: #3B4455;\n",
              "      --disabled-fill-color: #666;\n",
              "  }\n",
              "\n",
              "  .colab-df-quickchart {\n",
              "    background-color: var(--bg-color);\n",
              "    border: none;\n",
              "    border-radius: 50%;\n",
              "    cursor: pointer;\n",
              "    display: none;\n",
              "    fill: var(--fill-color);\n",
              "    height: 32px;\n",
              "    padding: 0;\n",
              "    width: 32px;\n",
              "  }\n",
              "\n",
              "  .colab-df-quickchart:hover {\n",
              "    background-color: var(--hover-bg-color);\n",
              "    box-shadow: 0 1px 2px rgba(60, 64, 67, 0.3), 0 1px 3px 1px rgba(60, 64, 67, 0.15);\n",
              "    fill: var(--button-hover-fill-color);\n",
              "  }\n",
              "\n",
              "  .colab-df-quickchart-complete:disabled,\n",
              "  .colab-df-quickchart-complete:disabled:hover {\n",
              "    background-color: var(--disabled-bg-color);\n",
              "    fill: var(--disabled-fill-color);\n",
              "    box-shadow: none;\n",
              "  }\n",
              "\n",
              "  .colab-df-spinner {\n",
              "    border: 2px solid var(--fill-color);\n",
              "    border-color: transparent;\n",
              "    border-bottom-color: var(--fill-color);\n",
              "    animation:\n",
              "      spin 1s steps(1) infinite;\n",
              "  }\n",
              "\n",
              "  @keyframes spin {\n",
              "    0% {\n",
              "      border-color: transparent;\n",
              "      border-bottom-color: var(--fill-color);\n",
              "      border-left-color: var(--fill-color);\n",
              "    }\n",
              "    20% {\n",
              "      border-color: transparent;\n",
              "      border-left-color: var(--fill-color);\n",
              "      border-top-color: var(--fill-color);\n",
              "    }\n",
              "    30% {\n",
              "      border-color: transparent;\n",
              "      border-left-color: var(--fill-color);\n",
              "      border-top-color: var(--fill-color);\n",
              "      border-right-color: var(--fill-color);\n",
              "    }\n",
              "    40% {\n",
              "      border-color: transparent;\n",
              "      border-right-color: var(--fill-color);\n",
              "      border-top-color: var(--fill-color);\n",
              "    }\n",
              "    60% {\n",
              "      border-color: transparent;\n",
              "      border-right-color: var(--fill-color);\n",
              "    }\n",
              "    80% {\n",
              "      border-color: transparent;\n",
              "      border-right-color: var(--fill-color);\n",
              "      border-bottom-color: var(--fill-color);\n",
              "    }\n",
              "    90% {\n",
              "      border-color: transparent;\n",
              "      border-bottom-color: var(--fill-color);\n",
              "    }\n",
              "  }\n",
              "</style>\n",
              "\n",
              "      <script>\n",
              "        async function quickchart(key) {\n",
              "          const quickchartButtonEl =\n",
              "            document.querySelector('#' + key + ' button');\n",
              "          quickchartButtonEl.disabled = true;  // To prevent multiple clicks.\n",
              "          quickchartButtonEl.classList.add('colab-df-spinner');\n",
              "          try {\n",
              "            const charts = await google.colab.kernel.invokeFunction(\n",
              "                'suggestCharts', [key], {});\n",
              "          } catch (error) {\n",
              "            console.error('Error during call to suggestCharts:', error);\n",
              "          }\n",
              "          quickchartButtonEl.classList.remove('colab-df-spinner');\n",
              "          quickchartButtonEl.classList.add('colab-df-quickchart-complete');\n",
              "        }\n",
              "        (() => {\n",
              "          let quickchartButtonEl =\n",
              "            document.querySelector('#df-d517cc23-1bd5-43b7-b2bc-15ed6bb12238 button');\n",
              "          quickchartButtonEl.style.display =\n",
              "            google.colab.kernel.accessAllowed ? 'block' : 'none';\n",
              "        })();\n",
              "      </script>\n",
              "    </div>\n",
              "\n",
              "    </div>\n",
              "  </div>\n"
            ],
            "application/vnd.google.colaboratory.intrinsic+json": {
              "type": "dataframe",
              "variable_name": "alpha_phonetic_pd",
              "summary": "{\n  \"name\": \"alpha_phonetic_pd\",\n  \"rows\": 10,\n  \"fields\": [\n    {\n      \"column\": \"col1\",\n      \"properties\": {\n        \"dtype\": \"number\",\n        \"std\": 3,\n        \"min\": 1,\n        \"max\": 10,\n        \"num_unique_values\": 10,\n        \"samples\": [\n          9,\n          2,\n          6\n        ],\n        \"semantic_type\": \"\",\n        \"description\": \"\"\n      }\n    },\n    {\n      \"column\": \"col2\",\n      \"properties\": {\n        \"dtype\": \"string\",\n        \"num_unique_values\": 10,\n        \"samples\": [\n          \"I\",\n          \"B\",\n          \"F\"\n        ],\n        \"semantic_type\": \"\",\n        \"description\": \"\"\n      }\n    },\n    {\n      \"column\": \"col3\",\n      \"properties\": {\n        \"dtype\": \"number\",\n        \"std\": 3,\n        \"min\": 1,\n        \"max\": 10,\n        \"num_unique_values\": 10,\n        \"samples\": [\n          2,\n          9,\n          5\n        ],\n        \"semantic_type\": \"\",\n        \"description\": \"\"\n      }\n    },\n    {\n      \"column\": \"col4\",\n      \"properties\": {\n        \"dtype\": \"string\",\n        \"num_unique_values\": 10,\n        \"samples\": [\n          \"Bravo\",\n          \"India\",\n          \"Echo\"\n        ],\n        \"semantic_type\": \"\",\n        \"description\": \"\"\n      }\n    }\n  ]\n}"
            }
          },
          "metadata": {},
          "execution_count": 3
        }
      ]
    },
    {
      "cell_type": "markdown",
      "source": [
        "Using Pandas is outside the scope of this Example but there are easy things you can do with Pandas"
      ],
      "metadata": {
        "id": "DZDkOnsA7c9c"
      }
    },
    {
      "cell_type": "code",
      "source": [
        "#find the unique values for a particular column\n",
        "alpha_phonetic_pd['col4'].unique()"
      ],
      "metadata": {
        "id": "P0l0unKd-9Tu",
        "colab": {
          "base_uri": "https://localhost:8080/"
        },
        "outputId": "4004d366-4c57-4702-9039-2b50860c7f09"
      },
      "execution_count": 5,
      "outputs": [
        {
          "output_type": "execute_result",
          "data": {
            "text/plain": [
              "array(['Juliett', 'India', 'Hotel', 'Gulf', 'Foxtrot', 'Echo', 'Delta',\n",
              "       'Charlie', 'Bravo', 'Alpha'], dtype=object)"
            ]
          },
          "metadata": {},
          "execution_count": 5
        }
      ]
    },
    {
      "cell_type": "code",
      "source": [
        "#get the maximum value for a particular column\n",
        "alpha_phonetic_pd['col3'].max()"
      ],
      "metadata": {
        "colab": {
          "base_uri": "https://localhost:8080/"
        },
        "id": "YD2UnEeM7s1X",
        "outputId": "661a4a62-3244-4cbb-bc84-d3f3a4b7d20f"
      },
      "execution_count": 6,
      "outputs": [
        {
          "output_type": "execute_result",
          "data": {
            "text/plain": [
              "10"
            ]
          },
          "metadata": {},
          "execution_count": 6
        }
      ]
    },
    {
      "cell_type": "markdown",
      "source": [
        "**Use a standard llm package to use natural language to ask questions**. In this case we will use Pandas AI and OpenAI for the LLM.  But, there are many packages and LLMs"
      ],
      "metadata": {
        "id": "BGUXLg78kLjh"
      }
    },
    {
      "cell_type": "code",
      "source": [
        "!pip install \"pandasai>=3.0.0b2\" --quiet"
      ],
      "metadata": {
        "id": "wOecnpqY9Fbt"
      },
      "execution_count": 7,
      "outputs": []
    },
    {
      "cell_type": "code",
      "source": [
        "import pandasai as pai\n",
        "from pandasai_openai.openai import OpenAI"
      ],
      "metadata": {
        "id": "BAhtFl9H9UYN"
      },
      "execution_count": 8,
      "outputs": []
    },
    {
      "cell_type": "code",
      "source": [
        "llm = OpenAI(\"<your_open_api_key\")"
      ],
      "metadata": {
        "id": "yuOl35_38VAe"
      },
      "execution_count": 117,
      "outputs": []
    },
    {
      "cell_type": "code",
      "source": [
        "pai.config.set({\n",
        "    \"llm\": llm\n",
        "})"
      ],
      "metadata": {
        "id": "6PPbfuLn8lqC"
      },
      "execution_count": 10,
      "outputs": []
    },
    {
      "cell_type": "code",
      "source": [
        "#now lets load the same dataframe as a pandasAI dataframe\n",
        "pai_alpha_phonetic_pd = pai.DataFrame({\n",
        "    'col1' : [1,2,3,4,5,6,7,8,9,10],\n",
        "    'col2' : ['A', 'B', 'C', 'D', 'E', 'F', 'G', 'H', 'I', 'J'],\n",
        "    'col3' : [10,9,8,7,6,5,4,3,2,1],\n",
        "    'col4' : ['Juliett', 'India', 'Hotel', 'Gulf', 'Foxtrot', 'Echo', 'Delta', 'Charlie', 'Bravo', 'Alpha']\n",
        "})"
      ],
      "metadata": {
        "id": "dSM3Im368l_L"
      },
      "execution_count": 12,
      "outputs": []
    },
    {
      "cell_type": "code",
      "source": [
        "#Now lets ask some questions similar to the above\n",
        "pai_alpha_phonetic_pd.chat(\"List the unique values in col4\")"
      ],
      "metadata": {
        "colab": {
          "base_uri": "https://localhost:8080/"
        },
        "id": "8JW1I7n58mUD",
        "outputId": "af893917-ae1e-4ec6-d59f-1d7c127178a8"
      },
      "execution_count": 13,
      "outputs": [
        {
          "output_type": "execute_result",
          "data": {
            "text/plain": [
              "DataFrameResponse(type='dataframe', value=      col4\n",
              "0    Alpha\n",
              "1    Bravo\n",
              "2  Charlie\n",
              "3    Delta\n",
              "4     Echo\n",
              "5  Foxtrot\n",
              "6     Gulf\n",
              "7    Hotel\n",
              "8    India\n",
              "9  Juliett)"
            ]
          },
          "metadata": {},
          "execution_count": 13
        }
      ]
    },
    {
      "cell_type": "code",
      "source": [
        "pai_alpha_phonetic_pd.chat(\"what is the largest number in Col3\")"
      ],
      "metadata": {
        "colab": {
          "base_uri": "https://localhost:8080/"
        },
        "id": "gUcdEWCW9SaH",
        "outputId": "a3c6080c-c100-452e-ea49-142e47cbfdb6"
      },
      "execution_count": 14,
      "outputs": [
        {
          "output_type": "execute_result",
          "data": {
            "text/plain": [
              "NumberResponse(type='number', value=10)"
            ]
          },
          "metadata": {},
          "execution_count": 14
        }
      ]
    },
    {
      "cell_type": "markdown",
      "source": [
        "**Now lets add a pipeline of things**\n",
        "For instance, in this case, I want to input a value from col1.  For whatever that value is, I want to find the same value in col3.  Then I want to return the value in col4 for the associated row."
      ],
      "metadata": {
        "id": "qm2dpgPqjGsS"
      }
    },
    {
      "cell_type": "code",
      "source": [
        "#if you know pandas, you can write a function fairly easily to do this\n",
        "def find_and_return_col4(df, col1_value):\n",
        "  match_row = df[df['col3'] == col1_value]\n",
        "  if not match_row.empty:\n",
        "    return match_row['col4'].iloc[0]\n",
        "  else:\n",
        "    return None"
      ],
      "metadata": {
        "id": "5LCJYrGQjQce"
      },
      "execution_count": 15,
      "outputs": []
    },
    {
      "cell_type": "code",
      "source": [
        "#test out the function\n",
        "find_and_return_col4(alpha_phonetic_pd, 1)"
      ],
      "metadata": {
        "id": "0UQ5lOjjjRoy",
        "colab": {
          "base_uri": "https://localhost:8080/",
          "height": 35
        },
        "outputId": "d6e7d12a-0dcb-4e69-9c54-d95233c370bc"
      },
      "execution_count": 16,
      "outputs": [
        {
          "output_type": "execute_result",
          "data": {
            "text/plain": [
              "'Alpha'"
            ],
            "application/vnd.google.colaboratory.intrinsic+json": {
              "type": "string"
            }
          },
          "metadata": {},
          "execution_count": 16
        }
      ]
    },
    {
      "cell_type": "code",
      "source": [
        "#try using the llm\n",
        "pai_alpha_phonetic_pd.chat(\"when col1 equals 1, what is the col4 row value where col3 equals col1\")"
      ],
      "metadata": {
        "id": "bG-QVICY6F1K",
        "colab": {
          "base_uri": "https://localhost:8080/"
        },
        "outputId": "ebfdbb57-fdc9-429d-dad3-457d02dae59f"
      },
      "execution_count": 17,
      "outputs": [
        {
          "output_type": "execute_result",
          "data": {
            "text/plain": [
              "StringResponse(type='string', value='')"
            ]
          },
          "metadata": {},
          "execution_count": 17
        }
      ]
    },
    {
      "cell_type": "code",
      "source": [
        "#hmmm ok, that did not work, maybe I can try and ask the question in a better way\n",
        "pai_alpha_phonetic_pd.chat(\"when col1 equals 1, what is the col4 row value\")"
      ],
      "metadata": {
        "id": "51bd5PV16Yx-",
        "colab": {
          "base_uri": "https://localhost:8080/"
        },
        "outputId": "212a9091-a6eb-4a95-8aac-a7b229cd6401"
      },
      "execution_count": 18,
      "outputs": [
        {
          "output_type": "execute_result",
          "data": {
            "text/plain": [
              "StringResponse(type='string', value='Juliett')"
            ]
          },
          "metadata": {},
          "execution_count": 18
        }
      ]
    },
    {
      "cell_type": "code",
      "source": [
        "#ok, that is worse, now it is giving a wrong answer"
      ],
      "metadata": {
        "id": "pttNPNrA_WNc"
      },
      "execution_count": 19,
      "outputs": []
    },
    {
      "cell_type": "code",
      "source": [
        "#let me try one more time\n",
        "pai_alpha_phonetic_pd.chat(\"if col1 equals 1, what is the value in col4 when col3 equals col1\")"
      ],
      "metadata": {
        "colab": {
          "base_uri": "https://localhost:8080/"
        },
        "id": "ftA8kC0H_bUs",
        "outputId": "d2595718-82bf-488f-a465-2375cedcbfb9"
      },
      "execution_count": 22,
      "outputs": [
        {
          "output_type": "execute_result",
          "data": {
            "text/plain": [
              "StringResponse(type='string', value='No matching row found where col1=1 and col3=col1.')"
            ]
          },
          "metadata": {},
          "execution_count": 22
        }
      ]
    },
    {
      "cell_type": "code",
      "source": [
        "#ok that is not true, let me try one more time\n",
        "pai_alpha_phonetic_pd.chat(\"when col1 equals 1, for the col3 row number where the col1 value equals col3, what is the col4 value\")"
      ],
      "metadata": {
        "colab": {
          "base_uri": "https://localhost:8080/"
        },
        "id": "-0Kj01a9_vUq",
        "outputId": "95f34385-c099-4eaa-bc89-a2f819dac6de"
      },
      "execution_count": 23,
      "outputs": [
        {
          "output_type": "execute_result",
          "data": {
            "text/plain": [
              "StringResponse(type='string', value='No matching col4 value found.')"
            ]
          },
          "metadata": {},
          "execution_count": 23
        }
      ]
    },
    {
      "cell_type": "markdown",
      "source": [
        "**So for a simple query, an LLM worked fine, but for anything that required some type of pipeline of commands, even though a simple function in pandas would give the answer, I could not come up with natural language that the llm could use to generate that sequence**\n",
        "\n",
        "**This is where dsl-spa comes in.  dsl-spa provides the ability for a data engineer to easily create a structure to answer known complex requirements while still using natural language as an interface**"
      ],
      "metadata": {
        "id": "ahg5T7FvlNeT"
      }
    },
    {
      "cell_type": "markdown",
      "source": [
        "#**Create the domain specific language and structured pipeline using dsl-spa**"
      ],
      "metadata": {
        "id": "zbr9UhrfBDvv"
      }
    },
    {
      "cell_type": "markdown",
      "source": [
        "**set up the dsl-spa structured pipeline**"
      ],
      "metadata": {
        "id": "VwbIoSl4BXU3"
      }
    },
    {
      "cell_type": "code",
      "source": [
        "!pip install dsl-spa --quiet"
      ],
      "metadata": {
        "id": "XXM0jBXvCoPe"
      },
      "execution_count": 24,
      "outputs": []
    },
    {
      "cell_type": "markdown",
      "source": [
        "So, lets think what we are trying to do.  We want to be able to input a value.  In this case it is a value in col1.  If we have the col1 value that we can extract from natural language, then we can create a structured pipeline.  So, in this case, col1, is the field we need as input, and something we can easily extract from natural language using an LLM.  We will go back and create that agent further down in this notebook, but let's create that col1 field"
      ],
      "metadata": {
        "id": "XiyMHsC7GW3D"
      }
    },
    {
      "cell_type": "code",
      "source": [
        "#import the standard pipeline\n",
        "from dsl_spa.pipeline.pipeline import StandardPipeline\n",
        "from dsl_spa.utils.schema import PipelineField, StandardPipelineSchema"
      ],
      "metadata": {
        "id": "5uVo_rVBBtLS"
      },
      "execution_count": 25,
      "outputs": []
    },
    {
      "cell_type": "code",
      "source": [
        "#define the field in dsl-spa\n",
        "column_1 = PipelineField(field_name = \"col1\",\n",
        "                         field_type = \"string\",\n",
        "                         required = True,\n",
        "                         description = \"Input by the user\")"
      ],
      "metadata": {
        "id": "01OT8kT_BttZ"
      },
      "execution_count": 26,
      "outputs": []
    },
    {
      "cell_type": "code",
      "source": [
        "#define the pipeline (we'll call it \"My_Pipeline\") and add that field to the pipeline we are going to use\n",
        "pipeline = StandardPipelineSchema(pipeline_name = \"My_Pipeline\", fields = [column_1], datasets = [], queries = [], csvs = [], scope = \"\", scope_description = \"\")\n",
        "pipeline.get_schema()"
      ],
      "metadata": {
        "colab": {
          "base_uri": "https://localhost:8080/"
        },
        "id": "Y3YLgJYMYPcE",
        "outputId": "082767b3-a465-4f61-ef01-7f703985b4d5"
      },
      "execution_count": 27,
      "outputs": [
        {
          "output_type": "execute_result",
          "data": {
            "text/plain": [
              "{'pipeline_name': 'My_Pipeline',\n",
              " 'scope': '',\n",
              " 'scope_description': '',\n",
              " 'fields': {'base': {'col1': {'name': 'col1',\n",
              "    'type': 'string',\n",
              "    'required': True,\n",
              "    'description': 'Input by the user'}}}}"
            ]
          },
          "metadata": {},
          "execution_count": 27
        }
      ]
    },
    {
      "cell_type": "markdown",
      "source": [
        "So the above shows us our new dsl-spa pipeline called 'My_Pipeline' and we have a field called 'col1'\n",
        "\n",
        "Let's test the pipeline by inputting a value and making sure it shows in the pipeline"
      ],
      "metadata": {
        "id": "Z5cfnQg8ZTfh"
      }
    },
    {
      "cell_type": "code",
      "source": [
        "from dsl_spa.pipeline.pipeline import StandardPipeline"
      ],
      "metadata": {
        "id": "q69MNUheYQFK"
      },
      "execution_count": 28,
      "outputs": []
    },
    {
      "cell_type": "code",
      "source": [
        "#input a value of 5 for col1\n",
        "my_schema = pipeline.get_schema()\n",
        "my_practice_fields = {\"col1\" : 5}\n",
        "my_pipeline = StandardPipeline(fields_input_dict = my_practice_fields, json_schema = my_schema, connectors = None, functions = None)\n",
        "# Runs the pipeline\n",
        "my_pipeline.initialize_data()\n",
        "my_pipeline.process_data()\n",
        "my_pipeline.get_field(\"base.col1\")"
      ],
      "metadata": {
        "colab": {
          "base_uri": "https://localhost:8080/"
        },
        "id": "SdCCgxqNZmX2",
        "outputId": "6436c069-2034-4ba9-d15e-5bec1f849524"
      },
      "execution_count": 29,
      "outputs": [
        {
          "output_type": "execute_result",
          "data": {
            "text/plain": [
              "5"
            ]
          },
          "metadata": {},
          "execution_count": 29
        }
      ]
    },
    {
      "cell_type": "markdown",
      "source": [
        "Ok, cool, so now we see that when an Agent sets a field to \"5\", the structured pipeline will see that value for the field\n",
        "\n",
        "Now lets add the data to the pipeline.  dsl-spa supports both a query and a csv as ways to add data to the pipeline.  Since we have a dataframe, we can easily write that to a csv that we can use"
      ],
      "metadata": {
        "id": "TRqXHnIYaGXL"
      }
    },
    {
      "cell_type": "code",
      "source": [
        "# prompt: write alpha_phonetic_pd to a csv\n",
        "alpha_phonetic_pd.to_csv('alpha_phonetic.csv', index=False)"
      ],
      "metadata": {
        "id": "k83RxaG6Zms6"
      },
      "execution_count": 30,
      "outputs": []
    },
    {
      "cell_type": "markdown",
      "source": [
        "Now lets add that csv to our structured pipeline"
      ],
      "metadata": {
        "id": "3P3ClYoea7YZ"
      }
    },
    {
      "cell_type": "code",
      "source": [
        "from dsl_spa.utils.schema import CSV"
      ],
      "metadata": {
        "id": "UByrTMQ2a4YP"
      },
      "execution_count": 31,
      "outputs": []
    },
    {
      "cell_type": "code",
      "source": [
        "csv = CSV(csv_name = \"alpha_phonetic\", connector_name = \"csv_connector\", filename = \"alpha_phonetic.csv\")\n",
        "#no filter needed for this use case but could use to filter the data, this is useful in other scenarios\n",
        "#csv.add_column_filter(field_name = \"base.customer_name\", column_name = \"Customer\", value = \"{base.customer_name}\")\n",
        "csv.generate_schema()"
      ],
      "metadata": {
        "colab": {
          "base_uri": "https://localhost:8080/"
        },
        "id": "dlo8tfKlZnAY",
        "outputId": "ab74c7e0-25b7-4de9-a076-78128aadfa78"
      },
      "execution_count": 32,
      "outputs": [
        {
          "output_type": "execute_result",
          "data": {
            "text/plain": [
              "{'name': 'alpha_phonetic',\n",
              " 'connector': 'csv_connector',\n",
              " 'csv_name': 'alpha_phonetic.csv'}"
            ]
          },
          "metadata": {},
          "execution_count": 32
        }
      ]
    },
    {
      "cell_type": "code",
      "source": [
        "#add the csv schema to the pipeline\n",
        "pipeline = StandardPipelineSchema(pipeline_name = \"My_Pipeline\", fields = [column_1], datasets = [], queries = [], csvs = [csv], scope = \"\", scope_description = \"\")\n",
        "pipeline.get_schema()"
      ],
      "metadata": {
        "colab": {
          "base_uri": "https://localhost:8080/"
        },
        "id": "ekWzj1vabQuT",
        "outputId": "dae35b1e-d1c7-4016-a312-ed2d55687193"
      },
      "execution_count": 33,
      "outputs": [
        {
          "output_type": "execute_result",
          "data": {
            "text/plain": [
              "{'pipeline_name': 'My_Pipeline',\n",
              " 'scope': '',\n",
              " 'scope_description': '',\n",
              " 'fields': {'base': {'col1': {'name': 'col1',\n",
              "    'type': 'string',\n",
              "    'required': True,\n",
              "    'description': 'Input by the user'}}},\n",
              " 'csvs': [{'name': 'alpha_phonetic',\n",
              "   'connector': 'csv_connector',\n",
              "   'csv_name': 'alpha_phonetic.csv'}]}"
            ]
          },
          "metadata": {},
          "execution_count": 33
        }
      ]
    },
    {
      "cell_type": "markdown",
      "source": [
        "Great.  Now lets connect the csv to that pipeline"
      ],
      "metadata": {
        "id": "RpL546MKbw7r"
      }
    },
    {
      "cell_type": "code",
      "source": [
        "from dsl_spa.pipeline.connector import LocalCSVConnector"
      ],
      "metadata": {
        "id": "QF9RMs-fbRC2"
      },
      "execution_count": 34,
      "outputs": []
    },
    {
      "cell_type": "code",
      "source": [
        "#adding the csv and checking to see that it worked\n",
        "connector = LocalCSVConnector(folder=\"./\")\n",
        "connector_dict = {\"csv_connector\": connector}\n",
        "my_schema = pipeline.get_schema()\n",
        "my_practice_fields = {\"col1\" : 5}\n",
        "my_pipeline = StandardPipeline(fields_input_dict = my_practice_fields, json_schema = my_schema, connectors = connector_dict, functions = None)\n",
        "# Runs the pipeline\n",
        "my_pipeline.initialize_data()\n",
        "my_pipeline.process_data()\n",
        "print(my_pipeline.queries.keys()) # prints the name of the csvs/queries in the pipeline\n",
        "my_pipeline.queries[\"alpha_phonetic\"] # prints the dataframe of the csv"
      ],
      "metadata": {
        "colab": {
          "base_uri": "https://localhost:8080/",
          "height": 381
        },
        "id": "Rwe5gyb3bRWk",
        "outputId": "9997616a-f7a8-45cc-d950-40177723e63e"
      },
      "execution_count": 35,
      "outputs": [
        {
          "output_type": "stream",
          "name": "stdout",
          "text": [
            "dict_keys(['alpha_phonetic'])\n"
          ]
        },
        {
          "output_type": "execute_result",
          "data": {
            "text/plain": [
              "   col1 col2  col3     col4\n",
              "0     1    A    10  Juliett\n",
              "1     2    B     9    India\n",
              "2     3    C     8    Hotel\n",
              "3     4    D     7     Gulf\n",
              "4     5    E     6  Foxtrot\n",
              "5     6    F     5     Echo\n",
              "6     7    G     4    Delta\n",
              "7     8    H     3  Charlie\n",
              "8     9    I     2    Bravo\n",
              "9    10    J     1    Alpha"
            ],
            "text/html": [
              "\n",
              "  <div id=\"df-31a628f2-8feb-47b9-bd18-c85821751234\" class=\"colab-df-container\">\n",
              "    <div>\n",
              "<style scoped>\n",
              "    .dataframe tbody tr th:only-of-type {\n",
              "        vertical-align: middle;\n",
              "    }\n",
              "\n",
              "    .dataframe tbody tr th {\n",
              "        vertical-align: top;\n",
              "    }\n",
              "\n",
              "    .dataframe thead th {\n",
              "        text-align: right;\n",
              "    }\n",
              "</style>\n",
              "<table border=\"1\" class=\"dataframe\">\n",
              "  <thead>\n",
              "    <tr style=\"text-align: right;\">\n",
              "      <th></th>\n",
              "      <th>col1</th>\n",
              "      <th>col2</th>\n",
              "      <th>col3</th>\n",
              "      <th>col4</th>\n",
              "    </tr>\n",
              "  </thead>\n",
              "  <tbody>\n",
              "    <tr>\n",
              "      <th>0</th>\n",
              "      <td>1</td>\n",
              "      <td>A</td>\n",
              "      <td>10</td>\n",
              "      <td>Juliett</td>\n",
              "    </tr>\n",
              "    <tr>\n",
              "      <th>1</th>\n",
              "      <td>2</td>\n",
              "      <td>B</td>\n",
              "      <td>9</td>\n",
              "      <td>India</td>\n",
              "    </tr>\n",
              "    <tr>\n",
              "      <th>2</th>\n",
              "      <td>3</td>\n",
              "      <td>C</td>\n",
              "      <td>8</td>\n",
              "      <td>Hotel</td>\n",
              "    </tr>\n",
              "    <tr>\n",
              "      <th>3</th>\n",
              "      <td>4</td>\n",
              "      <td>D</td>\n",
              "      <td>7</td>\n",
              "      <td>Gulf</td>\n",
              "    </tr>\n",
              "    <tr>\n",
              "      <th>4</th>\n",
              "      <td>5</td>\n",
              "      <td>E</td>\n",
              "      <td>6</td>\n",
              "      <td>Foxtrot</td>\n",
              "    </tr>\n",
              "    <tr>\n",
              "      <th>5</th>\n",
              "      <td>6</td>\n",
              "      <td>F</td>\n",
              "      <td>5</td>\n",
              "      <td>Echo</td>\n",
              "    </tr>\n",
              "    <tr>\n",
              "      <th>6</th>\n",
              "      <td>7</td>\n",
              "      <td>G</td>\n",
              "      <td>4</td>\n",
              "      <td>Delta</td>\n",
              "    </tr>\n",
              "    <tr>\n",
              "      <th>7</th>\n",
              "      <td>8</td>\n",
              "      <td>H</td>\n",
              "      <td>3</td>\n",
              "      <td>Charlie</td>\n",
              "    </tr>\n",
              "    <tr>\n",
              "      <th>8</th>\n",
              "      <td>9</td>\n",
              "      <td>I</td>\n",
              "      <td>2</td>\n",
              "      <td>Bravo</td>\n",
              "    </tr>\n",
              "    <tr>\n",
              "      <th>9</th>\n",
              "      <td>10</td>\n",
              "      <td>J</td>\n",
              "      <td>1</td>\n",
              "      <td>Alpha</td>\n",
              "    </tr>\n",
              "  </tbody>\n",
              "</table>\n",
              "</div>\n",
              "    <div class=\"colab-df-buttons\">\n",
              "\n",
              "  <div class=\"colab-df-container\">\n",
              "    <button class=\"colab-df-convert\" onclick=\"convertToInteractive('df-31a628f2-8feb-47b9-bd18-c85821751234')\"\n",
              "            title=\"Convert this dataframe to an interactive table.\"\n",
              "            style=\"display:none;\">\n",
              "\n",
              "  <svg xmlns=\"http://www.w3.org/2000/svg\" height=\"24px\" viewBox=\"0 -960 960 960\">\n",
              "    <path d=\"M120-120v-720h720v720H120Zm60-500h600v-160H180v160Zm220 220h160v-160H400v160Zm0 220h160v-160H400v160ZM180-400h160v-160H180v160Zm440 0h160v-160H620v160ZM180-180h160v-160H180v160Zm440 0h160v-160H620v160Z\"/>\n",
              "  </svg>\n",
              "    </button>\n",
              "\n",
              "  <style>\n",
              "    .colab-df-container {\n",
              "      display:flex;\n",
              "      gap: 12px;\n",
              "    }\n",
              "\n",
              "    .colab-df-convert {\n",
              "      background-color: #E8F0FE;\n",
              "      border: none;\n",
              "      border-radius: 50%;\n",
              "      cursor: pointer;\n",
              "      display: none;\n",
              "      fill: #1967D2;\n",
              "      height: 32px;\n",
              "      padding: 0 0 0 0;\n",
              "      width: 32px;\n",
              "    }\n",
              "\n",
              "    .colab-df-convert:hover {\n",
              "      background-color: #E2EBFA;\n",
              "      box-shadow: 0px 1px 2px rgba(60, 64, 67, 0.3), 0px 1px 3px 1px rgba(60, 64, 67, 0.15);\n",
              "      fill: #174EA6;\n",
              "    }\n",
              "\n",
              "    .colab-df-buttons div {\n",
              "      margin-bottom: 4px;\n",
              "    }\n",
              "\n",
              "    [theme=dark] .colab-df-convert {\n",
              "      background-color: #3B4455;\n",
              "      fill: #D2E3FC;\n",
              "    }\n",
              "\n",
              "    [theme=dark] .colab-df-convert:hover {\n",
              "      background-color: #434B5C;\n",
              "      box-shadow: 0px 1px 3px 1px rgba(0, 0, 0, 0.15);\n",
              "      filter: drop-shadow(0px 1px 2px rgba(0, 0, 0, 0.3));\n",
              "      fill: #FFFFFF;\n",
              "    }\n",
              "  </style>\n",
              "\n",
              "    <script>\n",
              "      const buttonEl =\n",
              "        document.querySelector('#df-31a628f2-8feb-47b9-bd18-c85821751234 button.colab-df-convert');\n",
              "      buttonEl.style.display =\n",
              "        google.colab.kernel.accessAllowed ? 'block' : 'none';\n",
              "\n",
              "      async function convertToInteractive(key) {\n",
              "        const element = document.querySelector('#df-31a628f2-8feb-47b9-bd18-c85821751234');\n",
              "        const dataTable =\n",
              "          await google.colab.kernel.invokeFunction('convertToInteractive',\n",
              "                                                    [key], {});\n",
              "        if (!dataTable) return;\n",
              "\n",
              "        const docLinkHtml = 'Like what you see? Visit the ' +\n",
              "          '<a target=\"_blank\" href=https://colab.research.google.com/notebooks/data_table.ipynb>data table notebook</a>'\n",
              "          + ' to learn more about interactive tables.';\n",
              "        element.innerHTML = '';\n",
              "        dataTable['output_type'] = 'display_data';\n",
              "        await google.colab.output.renderOutput(dataTable, element);\n",
              "        const docLink = document.createElement('div');\n",
              "        docLink.innerHTML = docLinkHtml;\n",
              "        element.appendChild(docLink);\n",
              "      }\n",
              "    </script>\n",
              "  </div>\n",
              "\n",
              "\n",
              "    <div id=\"df-166f60b2-cf8d-40ad-b678-af66fb0a5e19\">\n",
              "      <button class=\"colab-df-quickchart\" onclick=\"quickchart('df-166f60b2-cf8d-40ad-b678-af66fb0a5e19')\"\n",
              "                title=\"Suggest charts\"\n",
              "                style=\"display:none;\">\n",
              "\n",
              "<svg xmlns=\"http://www.w3.org/2000/svg\" height=\"24px\"viewBox=\"0 0 24 24\"\n",
              "     width=\"24px\">\n",
              "    <g>\n",
              "        <path d=\"M19 3H5c-1.1 0-2 .9-2 2v14c0 1.1.9 2 2 2h14c1.1 0 2-.9 2-2V5c0-1.1-.9-2-2-2zM9 17H7v-7h2v7zm4 0h-2V7h2v10zm4 0h-2v-4h2v4z\"/>\n",
              "    </g>\n",
              "</svg>\n",
              "      </button>\n",
              "\n",
              "<style>\n",
              "  .colab-df-quickchart {\n",
              "      --bg-color: #E8F0FE;\n",
              "      --fill-color: #1967D2;\n",
              "      --hover-bg-color: #E2EBFA;\n",
              "      --hover-fill-color: #174EA6;\n",
              "      --disabled-fill-color: #AAA;\n",
              "      --disabled-bg-color: #DDD;\n",
              "  }\n",
              "\n",
              "  [theme=dark] .colab-df-quickchart {\n",
              "      --bg-color: #3B4455;\n",
              "      --fill-color: #D2E3FC;\n",
              "      --hover-bg-color: #434B5C;\n",
              "      --hover-fill-color: #FFFFFF;\n",
              "      --disabled-bg-color: #3B4455;\n",
              "      --disabled-fill-color: #666;\n",
              "  }\n",
              "\n",
              "  .colab-df-quickchart {\n",
              "    background-color: var(--bg-color);\n",
              "    border: none;\n",
              "    border-radius: 50%;\n",
              "    cursor: pointer;\n",
              "    display: none;\n",
              "    fill: var(--fill-color);\n",
              "    height: 32px;\n",
              "    padding: 0;\n",
              "    width: 32px;\n",
              "  }\n",
              "\n",
              "  .colab-df-quickchart:hover {\n",
              "    background-color: var(--hover-bg-color);\n",
              "    box-shadow: 0 1px 2px rgba(60, 64, 67, 0.3), 0 1px 3px 1px rgba(60, 64, 67, 0.15);\n",
              "    fill: var(--button-hover-fill-color);\n",
              "  }\n",
              "\n",
              "  .colab-df-quickchart-complete:disabled,\n",
              "  .colab-df-quickchart-complete:disabled:hover {\n",
              "    background-color: var(--disabled-bg-color);\n",
              "    fill: var(--disabled-fill-color);\n",
              "    box-shadow: none;\n",
              "  }\n",
              "\n",
              "  .colab-df-spinner {\n",
              "    border: 2px solid var(--fill-color);\n",
              "    border-color: transparent;\n",
              "    border-bottom-color: var(--fill-color);\n",
              "    animation:\n",
              "      spin 1s steps(1) infinite;\n",
              "  }\n",
              "\n",
              "  @keyframes spin {\n",
              "    0% {\n",
              "      border-color: transparent;\n",
              "      border-bottom-color: var(--fill-color);\n",
              "      border-left-color: var(--fill-color);\n",
              "    }\n",
              "    20% {\n",
              "      border-color: transparent;\n",
              "      border-left-color: var(--fill-color);\n",
              "      border-top-color: var(--fill-color);\n",
              "    }\n",
              "    30% {\n",
              "      border-color: transparent;\n",
              "      border-left-color: var(--fill-color);\n",
              "      border-top-color: var(--fill-color);\n",
              "      border-right-color: var(--fill-color);\n",
              "    }\n",
              "    40% {\n",
              "      border-color: transparent;\n",
              "      border-right-color: var(--fill-color);\n",
              "      border-top-color: var(--fill-color);\n",
              "    }\n",
              "    60% {\n",
              "      border-color: transparent;\n",
              "      border-right-color: var(--fill-color);\n",
              "    }\n",
              "    80% {\n",
              "      border-color: transparent;\n",
              "      border-right-color: var(--fill-color);\n",
              "      border-bottom-color: var(--fill-color);\n",
              "    }\n",
              "    90% {\n",
              "      border-color: transparent;\n",
              "      border-bottom-color: var(--fill-color);\n",
              "    }\n",
              "  }\n",
              "</style>\n",
              "\n",
              "      <script>\n",
              "        async function quickchart(key) {\n",
              "          const quickchartButtonEl =\n",
              "            document.querySelector('#' + key + ' button');\n",
              "          quickchartButtonEl.disabled = true;  // To prevent multiple clicks.\n",
              "          quickchartButtonEl.classList.add('colab-df-spinner');\n",
              "          try {\n",
              "            const charts = await google.colab.kernel.invokeFunction(\n",
              "                'suggestCharts', [key], {});\n",
              "          } catch (error) {\n",
              "            console.error('Error during call to suggestCharts:', error);\n",
              "          }\n",
              "          quickchartButtonEl.classList.remove('colab-df-spinner');\n",
              "          quickchartButtonEl.classList.add('colab-df-quickchart-complete');\n",
              "        }\n",
              "        (() => {\n",
              "          let quickchartButtonEl =\n",
              "            document.querySelector('#df-166f60b2-cf8d-40ad-b678-af66fb0a5e19 button');\n",
              "          quickchartButtonEl.style.display =\n",
              "            google.colab.kernel.accessAllowed ? 'block' : 'none';\n",
              "        })();\n",
              "      </script>\n",
              "    </div>\n",
              "\n",
              "    </div>\n",
              "  </div>\n"
            ],
            "application/vnd.google.colaboratory.intrinsic+json": {
              "type": "dataframe",
              "summary": "{\n  \"name\": \"my_pipeline\",\n  \"rows\": 10,\n  \"fields\": [\n    {\n      \"column\": \"col1\",\n      \"properties\": {\n        \"dtype\": \"number\",\n        \"std\": 3,\n        \"min\": 1,\n        \"max\": 10,\n        \"num_unique_values\": 10,\n        \"samples\": [\n          9,\n          2,\n          6\n        ],\n        \"semantic_type\": \"\",\n        \"description\": \"\"\n      }\n    },\n    {\n      \"column\": \"col2\",\n      \"properties\": {\n        \"dtype\": \"string\",\n        \"num_unique_values\": 10,\n        \"samples\": [\n          \"I\",\n          \"B\",\n          \"F\"\n        ],\n        \"semantic_type\": \"\",\n        \"description\": \"\"\n      }\n    },\n    {\n      \"column\": \"col3\",\n      \"properties\": {\n        \"dtype\": \"number\",\n        \"std\": 3,\n        \"min\": 1,\n        \"max\": 10,\n        \"num_unique_values\": 10,\n        \"samples\": [\n          2,\n          9,\n          5\n        ],\n        \"semantic_type\": \"\",\n        \"description\": \"\"\n      }\n    },\n    {\n      \"column\": \"col4\",\n      \"properties\": {\n        \"dtype\": \"string\",\n        \"num_unique_values\": 10,\n        \"samples\": [\n          \"Bravo\",\n          \"India\",\n          \"Echo\"\n        ],\n        \"semantic_type\": \"\",\n        \"description\": \"\"\n      }\n    }\n  ]\n}"
            }
          },
          "metadata": {},
          "execution_count": 35
        }
      ]
    },
    {
      "cell_type": "markdown",
      "source": [
        "OK above you can see that we have one query called \"alpha_phonetic\".  And when you call it, it loads the dataframe from the alpha_phonetic.csv.  Cool."
      ],
      "metadata": {
        "id": "eBviwJrbd0Oq"
      }
    },
    {
      "cell_type": "markdown",
      "source": [
        "Now that we have the input field and the data, we can add the function that returns the answer.  In dsl-spa the return may be more than an answer.  It might be a full set of data that can be summarized or visualized.  So the return is called a dataset.  So lets add the function that returns the dataset"
      ],
      "metadata": {
        "id": "3w41IJlLeEYM"
      }
    },
    {
      "cell_type": "code",
      "source": [
        "#first for dsl-spa, we have to return a dataframe so let's modify the function slightly\n",
        "def modified_find_and_return_col4(df, col1_value):\n",
        "  match_row = df[df['col3'] == col1_value]\n",
        "  return match_row"
      ],
      "metadata": {
        "id": "qiq8ufYTeDUx"
      },
      "execution_count": 36,
      "outputs": []
    },
    {
      "cell_type": "markdown",
      "source": [
        "Just for clarity: The above function has two inputs, the df which will automatically be loaded by dsl-spa and then the col1_value which is our input field"
      ],
      "metadata": {
        "id": "HU7F_Uxifvm3"
      }
    },
    {
      "cell_type": "code",
      "source": [
        "from dsl_spa.utils.schema import SummaryDataset"
      ],
      "metadata": {
        "id": "sOl_saVYeB3y"
      },
      "execution_count": 37,
      "outputs": []
    },
    {
      "cell_type": "markdown",
      "source": [
        "Now in dsl-spa, we are create a dataset that returns the summary that in this case is the answer i.e. the row for col4"
      ],
      "metadata": {
        "id": "Uv1ZiZvcf_Lt"
      }
    },
    {
      "cell_type": "code",
      "source": [
        "alpha_phonetic_dataset = SummaryDataset(dataset_name=\"alpha_phonetic_dataset\", summary_by_row=\"{col4}\", empty_dataset=\"Value not found\")\n",
        "alpha_phonetic_dataset.create_from_query(\"alpha_phonetic\")\n",
        "fields = {\n",
        "    \"col1_value\": \"base.col1\"\n",
        "}\n",
        "alpha_phonetic_dataset.add_function(function_name=\"find_col_4_value\", function_fields_dict=fields)\n",
        "alpha_phonetic_dataset.generate_schema()"
      ],
      "metadata": {
        "colab": {
          "base_uri": "https://localhost:8080/"
        },
        "id": "It5uXCIxbRp5",
        "outputId": "03d672fb-5992-4a19-e241-3f6c071226b5"
      },
      "execution_count": 44,
      "outputs": [
        {
          "output_type": "execute_result",
          "data": {
            "text/plain": [
              "{'name': 'alpha_phonetic_dataset',\n",
              " 'create': [{'type': 'query', 'name': 'alpha_phonetic'},\n",
              "  {'type': 'function',\n",
              "   'name': 'find_col_4_value',\n",
              "   'fields': {'col1_value': 'base.col1'}}],\n",
              " 'summarize': '{col4}',\n",
              " 'remove_comma': False,\n",
              " 'empty_summary': 'Value not found'}"
            ]
          },
          "metadata": {},
          "execution_count": 44
        }
      ]
    },
    {
      "cell_type": "markdown",
      "source": [
        "Note: In the above you can see that the empty_summary is if the col1 value is not in the dataset\n",
        "\n",
        "Ok great, now lets add this to pipeline schema"
      ],
      "metadata": {
        "id": "0ftUTWvpg0iz"
      }
    },
    {
      "cell_type": "code",
      "source": [
        "pipeline = StandardPipelineSchema(pipeline_name = \"My_Pipeline\", fields = [column_1], datasets = [alpha_phonetic_dataset], queries = [], csvs = [csv], scope = \"\", scope_description = \"\")\n",
        "pipeline.get_schema()"
      ],
      "metadata": {
        "colab": {
          "base_uri": "https://localhost:8080/"
        },
        "id": "eEdttgkkbR8J",
        "outputId": "287e1365-ecef-45de-99c4-91983f6ff385"
      },
      "execution_count": 45,
      "outputs": [
        {
          "output_type": "execute_result",
          "data": {
            "text/plain": [
              "{'pipeline_name': 'My_Pipeline',\n",
              " 'scope': '',\n",
              " 'scope_description': '',\n",
              " 'fields': {'base': {'col1': {'name': 'col1',\n",
              "    'type': 'string',\n",
              "    'required': True,\n",
              "    'description': 'Input by the user'}}},\n",
              " 'csvs': [{'name': 'alpha_phonetic',\n",
              "   'connector': 'csv_connector',\n",
              "   'csv_name': 'alpha_phonetic.csv'}],\n",
              " 'datasets': [{'name': 'alpha_phonetic_dataset',\n",
              "   'create': [{'type': 'query', 'name': 'alpha_phonetic'},\n",
              "    {'type': 'function',\n",
              "     'name': 'find_col_4_value',\n",
              "     'fields': {'col1_value': 'base.col1'}}],\n",
              "   'summarize': '{col4}',\n",
              "   'remove_comma': False,\n",
              "   'empty_summary': 'Value not found'}]}"
            ]
          },
          "metadata": {},
          "execution_count": 45
        }
      ]
    },
    {
      "cell_type": "markdown",
      "source": [
        "Now we can add the function and test it out by inserting a value for col1"
      ],
      "metadata": {
        "id": "E5eXeJeAhSU-"
      }
    },
    {
      "cell_type": "code",
      "source": [
        "my_schema = pipeline.get_schema()\n",
        "my_practice_fields = {\"col1\" : 5}\n",
        "my_pipeline = StandardPipeline(fields_input_dict = my_practice_fields, json_schema = my_schema, connectors = connector_dict, functions = {\"find_col_4_value\": modified_find_and_return_col4})\n",
        "# Runs the pipeline\n",
        "my_pipeline.initialize_data()\n",
        "my_pipeline.process_data()\n",
        "print(my_pipeline.datasets.keys())\n",
        "my_pipeline.datasets[\"alpha_phonetic_dataset\"]"
      ],
      "metadata": {
        "colab": {
          "base_uri": "https://localhost:8080/",
          "height": 99
        },
        "id": "udSDQ-L_hQ_T",
        "outputId": "7c41e6c0-5ad4-4a3c-8750-797dd9fbdf99"
      },
      "execution_count": 46,
      "outputs": [
        {
          "output_type": "stream",
          "name": "stdout",
          "text": [
            "dict_keys(['alpha_phonetic_dataset'])\n"
          ]
        },
        {
          "output_type": "execute_result",
          "data": {
            "text/plain": [
              "   col1 col2  col3  col4\n",
              "5     6    F     5  Echo"
            ],
            "text/html": [
              "\n",
              "  <div id=\"df-ea4d0a80-2562-43a2-96bd-b0748393b91d\" class=\"colab-df-container\">\n",
              "    <div>\n",
              "<style scoped>\n",
              "    .dataframe tbody tr th:only-of-type {\n",
              "        vertical-align: middle;\n",
              "    }\n",
              "\n",
              "    .dataframe tbody tr th {\n",
              "        vertical-align: top;\n",
              "    }\n",
              "\n",
              "    .dataframe thead th {\n",
              "        text-align: right;\n",
              "    }\n",
              "</style>\n",
              "<table border=\"1\" class=\"dataframe\">\n",
              "  <thead>\n",
              "    <tr style=\"text-align: right;\">\n",
              "      <th></th>\n",
              "      <th>col1</th>\n",
              "      <th>col2</th>\n",
              "      <th>col3</th>\n",
              "      <th>col4</th>\n",
              "    </tr>\n",
              "  </thead>\n",
              "  <tbody>\n",
              "    <tr>\n",
              "      <th>5</th>\n",
              "      <td>6</td>\n",
              "      <td>F</td>\n",
              "      <td>5</td>\n",
              "      <td>Echo</td>\n",
              "    </tr>\n",
              "  </tbody>\n",
              "</table>\n",
              "</div>\n",
              "    <div class=\"colab-df-buttons\">\n",
              "\n",
              "  <div class=\"colab-df-container\">\n",
              "    <button class=\"colab-df-convert\" onclick=\"convertToInteractive('df-ea4d0a80-2562-43a2-96bd-b0748393b91d')\"\n",
              "            title=\"Convert this dataframe to an interactive table.\"\n",
              "            style=\"display:none;\">\n",
              "\n",
              "  <svg xmlns=\"http://www.w3.org/2000/svg\" height=\"24px\" viewBox=\"0 -960 960 960\">\n",
              "    <path d=\"M120-120v-720h720v720H120Zm60-500h600v-160H180v160Zm220 220h160v-160H400v160Zm0 220h160v-160H400v160ZM180-400h160v-160H180v160Zm440 0h160v-160H620v160ZM180-180h160v-160H180v160Zm440 0h160v-160H620v160Z\"/>\n",
              "  </svg>\n",
              "    </button>\n",
              "\n",
              "  <style>\n",
              "    .colab-df-container {\n",
              "      display:flex;\n",
              "      gap: 12px;\n",
              "    }\n",
              "\n",
              "    .colab-df-convert {\n",
              "      background-color: #E8F0FE;\n",
              "      border: none;\n",
              "      border-radius: 50%;\n",
              "      cursor: pointer;\n",
              "      display: none;\n",
              "      fill: #1967D2;\n",
              "      height: 32px;\n",
              "      padding: 0 0 0 0;\n",
              "      width: 32px;\n",
              "    }\n",
              "\n",
              "    .colab-df-convert:hover {\n",
              "      background-color: #E2EBFA;\n",
              "      box-shadow: 0px 1px 2px rgba(60, 64, 67, 0.3), 0px 1px 3px 1px rgba(60, 64, 67, 0.15);\n",
              "      fill: #174EA6;\n",
              "    }\n",
              "\n",
              "    .colab-df-buttons div {\n",
              "      margin-bottom: 4px;\n",
              "    }\n",
              "\n",
              "    [theme=dark] .colab-df-convert {\n",
              "      background-color: #3B4455;\n",
              "      fill: #D2E3FC;\n",
              "    }\n",
              "\n",
              "    [theme=dark] .colab-df-convert:hover {\n",
              "      background-color: #434B5C;\n",
              "      box-shadow: 0px 1px 3px 1px rgba(0, 0, 0, 0.15);\n",
              "      filter: drop-shadow(0px 1px 2px rgba(0, 0, 0, 0.3));\n",
              "      fill: #FFFFFF;\n",
              "    }\n",
              "  </style>\n",
              "\n",
              "    <script>\n",
              "      const buttonEl =\n",
              "        document.querySelector('#df-ea4d0a80-2562-43a2-96bd-b0748393b91d button.colab-df-convert');\n",
              "      buttonEl.style.display =\n",
              "        google.colab.kernel.accessAllowed ? 'block' : 'none';\n",
              "\n",
              "      async function convertToInteractive(key) {\n",
              "        const element = document.querySelector('#df-ea4d0a80-2562-43a2-96bd-b0748393b91d');\n",
              "        const dataTable =\n",
              "          await google.colab.kernel.invokeFunction('convertToInteractive',\n",
              "                                                    [key], {});\n",
              "        if (!dataTable) return;\n",
              "\n",
              "        const docLinkHtml = 'Like what you see? Visit the ' +\n",
              "          '<a target=\"_blank\" href=https://colab.research.google.com/notebooks/data_table.ipynb>data table notebook</a>'\n",
              "          + ' to learn more about interactive tables.';\n",
              "        element.innerHTML = '';\n",
              "        dataTable['output_type'] = 'display_data';\n",
              "        await google.colab.output.renderOutput(dataTable, element);\n",
              "        const docLink = document.createElement('div');\n",
              "        docLink.innerHTML = docLinkHtml;\n",
              "        element.appendChild(docLink);\n",
              "      }\n",
              "    </script>\n",
              "  </div>\n",
              "\n",
              "\n",
              "    </div>\n",
              "  </div>\n"
            ],
            "application/vnd.google.colaboratory.intrinsic+json": {
              "type": "dataframe",
              "summary": "{\n  \"name\": \"my_pipeline\",\n  \"rows\": 1,\n  \"fields\": [\n    {\n      \"column\": \"col1\",\n      \"properties\": {\n        \"dtype\": \"number\",\n        \"std\": null,\n        \"min\": 6,\n        \"max\": 6,\n        \"num_unique_values\": 1,\n        \"samples\": [\n          6\n        ],\n        \"semantic_type\": \"\",\n        \"description\": \"\"\n      }\n    },\n    {\n      \"column\": \"col2\",\n      \"properties\": {\n        \"dtype\": \"string\",\n        \"num_unique_values\": 1,\n        \"samples\": [\n          \"F\"\n        ],\n        \"semantic_type\": \"\",\n        \"description\": \"\"\n      }\n    },\n    {\n      \"column\": \"col3\",\n      \"properties\": {\n        \"dtype\": \"number\",\n        \"std\": null,\n        \"min\": 5,\n        \"max\": 5,\n        \"num_unique_values\": 1,\n        \"samples\": [\n          5\n        ],\n        \"semantic_type\": \"\",\n        \"description\": \"\"\n      }\n    },\n    {\n      \"column\": \"col4\",\n      \"properties\": {\n        \"dtype\": \"string\",\n        \"num_unique_values\": 1,\n        \"samples\": [\n          \"Echo\"\n        ],\n        \"semantic_type\": \"\",\n        \"description\": \"\"\n      }\n    }\n  ]\n}"
            }
          },
          "metadata": {},
          "execution_count": 46
        }
      ]
    },
    {
      "cell_type": "markdown",
      "source": [
        "OK great we are getting the correct row as the returned, now lets just make sure the null works"
      ],
      "metadata": {
        "id": "AtTOxWFCinqy"
      }
    },
    {
      "cell_type": "code",
      "source": [
        "#set col1 to 15 which is not a value in the dataset\n",
        "my_schema = pipeline.get_schema()\n",
        "my_practice_fields = {\"col1\" : 15}\n",
        "my_pipeline = StandardPipeline(fields_input_dict = my_practice_fields, json_schema = my_schema, connectors = connector_dict, functions = {\"find_col_4_value\": modified_find_and_return_col4})\n",
        "# Runs the pipeline\n",
        "my_pipeline.initialize_data()\n",
        "my_pipeline.process_data()\n",
        "print(my_pipeline.datasets.keys())\n",
        "my_pipeline.datasets[\"alpha_phonetic_dataset\"]"
      ],
      "metadata": {
        "colab": {
          "base_uri": "https://localhost:8080/",
          "height": 71
        },
        "id": "X8OH59Hdg41N",
        "outputId": "f1a597a7-4978-4999-f446-0cb4c668dd01"
      },
      "execution_count": 47,
      "outputs": [
        {
          "output_type": "stream",
          "name": "stdout",
          "text": [
            "dict_keys(['alpha_phonetic_dataset'])\n"
          ]
        },
        {
          "output_type": "execute_result",
          "data": {
            "text/plain": [
              "Empty DataFrame\n",
              "Columns: [col1, col2, col3, col4]\n",
              "Index: []"
            ],
            "text/html": [
              "\n",
              "  <div id=\"df-72c938c1-a364-4eb6-a276-c482b1f32a26\" class=\"colab-df-container\">\n",
              "    <div>\n",
              "<style scoped>\n",
              "    .dataframe tbody tr th:only-of-type {\n",
              "        vertical-align: middle;\n",
              "    }\n",
              "\n",
              "    .dataframe tbody tr th {\n",
              "        vertical-align: top;\n",
              "    }\n",
              "\n",
              "    .dataframe thead th {\n",
              "        text-align: right;\n",
              "    }\n",
              "</style>\n",
              "<table border=\"1\" class=\"dataframe\">\n",
              "  <thead>\n",
              "    <tr style=\"text-align: right;\">\n",
              "      <th></th>\n",
              "      <th>col1</th>\n",
              "      <th>col2</th>\n",
              "      <th>col3</th>\n",
              "      <th>col4</th>\n",
              "    </tr>\n",
              "  </thead>\n",
              "  <tbody>\n",
              "  </tbody>\n",
              "</table>\n",
              "</div>\n",
              "    <div class=\"colab-df-buttons\">\n",
              "\n",
              "  <div class=\"colab-df-container\">\n",
              "    <button class=\"colab-df-convert\" onclick=\"convertToInteractive('df-72c938c1-a364-4eb6-a276-c482b1f32a26')\"\n",
              "            title=\"Convert this dataframe to an interactive table.\"\n",
              "            style=\"display:none;\">\n",
              "\n",
              "  <svg xmlns=\"http://www.w3.org/2000/svg\" height=\"24px\" viewBox=\"0 -960 960 960\">\n",
              "    <path d=\"M120-120v-720h720v720H120Zm60-500h600v-160H180v160Zm220 220h160v-160H400v160Zm0 220h160v-160H400v160ZM180-400h160v-160H180v160Zm440 0h160v-160H620v160ZM180-180h160v-160H180v160Zm440 0h160v-160H620v160Z\"/>\n",
              "  </svg>\n",
              "    </button>\n",
              "\n",
              "  <style>\n",
              "    .colab-df-container {\n",
              "      display:flex;\n",
              "      gap: 12px;\n",
              "    }\n",
              "\n",
              "    .colab-df-convert {\n",
              "      background-color: #E8F0FE;\n",
              "      border: none;\n",
              "      border-radius: 50%;\n",
              "      cursor: pointer;\n",
              "      display: none;\n",
              "      fill: #1967D2;\n",
              "      height: 32px;\n",
              "      padding: 0 0 0 0;\n",
              "      width: 32px;\n",
              "    }\n",
              "\n",
              "    .colab-df-convert:hover {\n",
              "      background-color: #E2EBFA;\n",
              "      box-shadow: 0px 1px 2px rgba(60, 64, 67, 0.3), 0px 1px 3px 1px rgba(60, 64, 67, 0.15);\n",
              "      fill: #174EA6;\n",
              "    }\n",
              "\n",
              "    .colab-df-buttons div {\n",
              "      margin-bottom: 4px;\n",
              "    }\n",
              "\n",
              "    [theme=dark] .colab-df-convert {\n",
              "      background-color: #3B4455;\n",
              "      fill: #D2E3FC;\n",
              "    }\n",
              "\n",
              "    [theme=dark] .colab-df-convert:hover {\n",
              "      background-color: #434B5C;\n",
              "      box-shadow: 0px 1px 3px 1px rgba(0, 0, 0, 0.15);\n",
              "      filter: drop-shadow(0px 1px 2px rgba(0, 0, 0, 0.3));\n",
              "      fill: #FFFFFF;\n",
              "    }\n",
              "  </style>\n",
              "\n",
              "    <script>\n",
              "      const buttonEl =\n",
              "        document.querySelector('#df-72c938c1-a364-4eb6-a276-c482b1f32a26 button.colab-df-convert');\n",
              "      buttonEl.style.display =\n",
              "        google.colab.kernel.accessAllowed ? 'block' : 'none';\n",
              "\n",
              "      async function convertToInteractive(key) {\n",
              "        const element = document.querySelector('#df-72c938c1-a364-4eb6-a276-c482b1f32a26');\n",
              "        const dataTable =\n",
              "          await google.colab.kernel.invokeFunction('convertToInteractive',\n",
              "                                                    [key], {});\n",
              "        if (!dataTable) return;\n",
              "\n",
              "        const docLinkHtml = 'Like what you see? Visit the ' +\n",
              "          '<a target=\"_blank\" href=https://colab.research.google.com/notebooks/data_table.ipynb>data table notebook</a>'\n",
              "          + ' to learn more about interactive tables.';\n",
              "        element.innerHTML = '';\n",
              "        dataTable['output_type'] = 'display_data';\n",
              "        await google.colab.output.renderOutput(dataTable, element);\n",
              "        const docLink = document.createElement('div');\n",
              "        docLink.innerHTML = docLinkHtml;\n",
              "        element.appendChild(docLink);\n",
              "      }\n",
              "    </script>\n",
              "  </div>\n",
              "\n",
              "\n",
              "    </div>\n",
              "  </div>\n"
            ],
            "application/vnd.google.colaboratory.intrinsic+json": {
              "type": "dataframe",
              "repr_error": "Out of range float values are not JSON compliant: nan"
            }
          },
          "metadata": {},
          "execution_count": 47
        }
      ]
    },
    {
      "cell_type": "markdown",
      "source": [
        "OK cool. Now we need to build the summary schema.  The summary assumes that there is more than one dataset because dsl-spa can return multiple datasets.  In this case there is only one, but that is why we have this step."
      ],
      "metadata": {
        "id": "7cDxYg7Ni3cy"
      }
    },
    {
      "cell_type": "code",
      "source": [
        "from dsl_spa.utils.schema import Summary"
      ],
      "metadata": {
        "id": "CtbONZagg5Nc"
      },
      "execution_count": 48,
      "outputs": []
    },
    {
      "cell_type": "code",
      "source": [
        "my_summary_answer = Summary(datasets=[alpha_phonetic_dataset])\n",
        "my_summary_answer.generate_schema()"
      ],
      "metadata": {
        "colab": {
          "base_uri": "https://localhost:8080/"
        },
        "id": "ZGaEdM_djKJu",
        "outputId": "32555822-e0d7-4889-de6b-9be4362f7972"
      },
      "execution_count": 49,
      "outputs": [
        {
          "output_type": "execute_result",
          "data": {
            "text/plain": [
              "{'datasets': ['alpha_phonetic_dataset']}"
            ]
          },
          "metadata": {},
          "execution_count": 49
        }
      ]
    },
    {
      "cell_type": "markdown",
      "source": [
        "And we can add that summary to the structured pipeline now"
      ],
      "metadata": {
        "id": "quoUuXJUjesf"
      }
    },
    {
      "cell_type": "code",
      "source": [
        "pipeline = StandardPipelineSchema(pipeline_name = \"My_Pipeline\", fields = [column_1], datasets = [alpha_phonetic_dataset], queries = [], csvs = [csv], scope = \"\", scope_description = \"\", summary=my_summary_answer)\n",
        "pipeline.get_schema()"
      ],
      "metadata": {
        "colab": {
          "base_uri": "https://localhost:8080/"
        },
        "id": "8dVIKGhCjbOM",
        "outputId": "179f4520-bc84-4493-a5d9-ac77b7e60d5d"
      },
      "execution_count": 50,
      "outputs": [
        {
          "output_type": "execute_result",
          "data": {
            "text/plain": [
              "{'pipeline_name': 'My_Pipeline',\n",
              " 'scope': '',\n",
              " 'scope_description': '',\n",
              " 'fields': {'base': {'col1': {'name': 'col1',\n",
              "    'type': 'string',\n",
              "    'required': True,\n",
              "    'description': 'Input by the user'}}},\n",
              " 'csvs': [{'name': 'alpha_phonetic',\n",
              "   'connector': 'csv_connector',\n",
              "   'csv_name': 'alpha_phonetic.csv'}],\n",
              " 'datasets': [{'name': 'alpha_phonetic_dataset',\n",
              "   'create': [{'type': 'query', 'name': 'alpha_phonetic'},\n",
              "    {'type': 'function',\n",
              "     'name': 'find_col_4_value',\n",
              "     'fields': {'col1_value': 'base.col1'}}],\n",
              "   'summarize': '{col4}',\n",
              "   'remove_comma': False,\n",
              "   'empty_summary': 'Value not found'}],\n",
              " 'summary': {'datasets': ['alpha_phonetic_dataset']}}"
            ]
          },
          "metadata": {},
          "execution_count": 50
        }
      ]
    },
    {
      "cell_type": "markdown",
      "source": [
        "Now we created the complete structured pipeline agent and we can test it out"
      ],
      "metadata": {
        "id": "t5HGOv6Pj0rD"
      }
    },
    {
      "cell_type": "code",
      "source": [
        "my_schema = pipeline.get_schema()\n",
        "my_practice_fields = {\"col1\" : 9}\n",
        "my_pipeline = StandardPipeline(fields_input_dict = my_practice_fields, json_schema = my_schema, connectors = connector_dict, functions = {\"find_col_4_value\": modified_find_and_return_col4})\n",
        "# Runs the pipeline\n",
        "my_pipeline.initialize_data()\n",
        "my_pipeline.process_data()\n",
        "my_pipeline.get_summary()"
      ],
      "metadata": {
        "colab": {
          "base_uri": "https://localhost:8080/",
          "height": 35
        },
        "id": "nH9S6ShejzKd",
        "outputId": "38560ef2-60b6-4881-bce7-407dde9dafea"
      },
      "execution_count": 51,
      "outputs": [
        {
          "output_type": "execute_result",
          "data": {
            "text/plain": [
              "'India'"
            ],
            "application/vnd.google.colaboratory.intrinsic+json": {
              "type": "string"
            }
          },
          "metadata": {},
          "execution_count": 51
        }
      ]
    },
    {
      "cell_type": "markdown",
      "source": [
        "And lets verify the null case"
      ],
      "metadata": {
        "id": "TqWLOWfJkd_B"
      }
    },
    {
      "cell_type": "code",
      "source": [
        "my_schema = pipeline.get_schema()\n",
        "my_practice_fields = {\"col1\" : 19}\n",
        "my_pipeline = StandardPipeline(fields_input_dict = my_practice_fields, json_schema = my_schema, connectors = connector_dict, functions = {\"find_col_4_value\": modified_find_and_return_col4})\n",
        "# Runs the pipeline\n",
        "my_pipeline.initialize_data()\n",
        "my_pipeline.process_data()\n",
        "my_pipeline.get_summary()"
      ],
      "metadata": {
        "colab": {
          "base_uri": "https://localhost:8080/",
          "height": 35
        },
        "id": "weT3TirZkc2Y",
        "outputId": "63774ff7-e523-436e-eaf1-4c4ef244c566"
      },
      "execution_count": 52,
      "outputs": [
        {
          "output_type": "execute_result",
          "data": {
            "text/plain": [
              "'Value not found'"
            ],
            "application/vnd.google.colaboratory.intrinsic+json": {
              "type": "string"
            }
          },
          "metadata": {},
          "execution_count": 52
        }
      ]
    },
    {
      "cell_type": "markdown",
      "source": [
        "So lets show how an output from an agent can call this structured pipeline agent.  I.e. test output from an agent now.  I.e. {\n",
        "    \"col1\": 5,\n",
        "    \"pipeline\": \"my_pipeline\"\n",
        "}"
      ],
      "metadata": {
        "id": "YvT5_-deoBSw"
      }
    },
    {
      "cell_type": "code",
      "source": [
        "output_from_agent = {\n",
        "    \"col1\": 7,\n",
        "    \"pipeline\": \"my_pipeline\"\n",
        "}"
      ],
      "metadata": {
        "id": "Ec5PLlVGjXX0"
      },
      "execution_count": 98,
      "outputs": []
    },
    {
      "cell_type": "code",
      "source": [
        "output_from_agent"
      ],
      "metadata": {
        "colab": {
          "base_uri": "https://localhost:8080/"
        },
        "id": "botF2DZVzUMj",
        "outputId": "0671cab6-25c3-4aac-a182-00623482beb8"
      },
      "execution_count": 99,
      "outputs": [
        {
          "output_type": "execute_result",
          "data": {
            "text/plain": [
              "{'col1': 7, 'pipeline': 'my_pipeline'}"
            ]
          },
          "metadata": {},
          "execution_count": 99
        }
      ]
    },
    {
      "cell_type": "code",
      "source": [
        "my_pipeline = StandardPipeline(fields_input_dict = output_from_agent, json_schema = my_schema, connectors = connector_dict, functions = {\"find_col_4_value\": modified_find_and_return_col4})\n",
        "# Runs the pipeline\n",
        "my_pipeline.initialize_data()\n",
        "my_pipeline.process_data()\n",
        "my_pipeline.get_summary()"
      ],
      "metadata": {
        "colab": {
          "base_uri": "https://localhost:8080/",
          "height": 35
        },
        "id": "ipqmqfRljKfl",
        "outputId": "9b754959-ee10-4efc-c6bf-54294ae4e675"
      },
      "execution_count": 100,
      "outputs": [
        {
          "output_type": "execute_result",
          "data": {
            "text/plain": [
              "'Gulf'"
            ],
            "application/vnd.google.colaboratory.intrinsic+json": {
              "type": "string"
            }
          },
          "metadata": {},
          "execution_count": 100
        }
      ]
    },
    {
      "cell_type": "markdown",
      "source": [
        "So, now that we have a structured pipeline agent, we can create an natural language agent to take in natural language and output the needed schema.  Let's use Superwise to do that"
      ],
      "metadata": {
        "id": "VQyJYnk3obnK"
      }
    },
    {
      "cell_type": "markdown",
      "source": [
        "#**Create the Superwise Agent that will leverage the dsl-spa Structured Pipeline Agent**"
      ],
      "metadata": {
        "id": "aEfitlj-m2kM"
      }
    },
    {
      "cell_type": "markdown",
      "source": [
        "Note this is a small subset of all you can do with Superwise.  \n",
        "For complete Superwise capabilities visit: https://docs-swe.superwise.ai/"
      ],
      "metadata": {
        "id": "KMiKIlK1nR1M"
      }
    },
    {
      "cell_type": "code",
      "source": [
        "!pip install superwise-api --quiet"
      ],
      "metadata": {
        "colab": {
          "base_uri": "https://localhost:8080/"
        },
        "id": "yLji7ZlrDJ2w",
        "outputId": "8575650a-570a-48d4-ba25-0e7df20cbd2e"
      },
      "execution_count": 55,
      "outputs": [
        {
          "output_type": "stream",
          "name": "stdout",
          "text": [
            "\u001b[?25l   \u001b[90m━━━━━━━━━━━━━━━━━━━━━━━━━━━━━━━━━━━━━━━━\u001b[0m \u001b[32m0.0/63.2 kB\u001b[0m \u001b[31m?\u001b[0m eta \u001b[36m-:--:--\u001b[0m\r\u001b[2K   \u001b[90m━━━━━━━━━━━━━━━━━━━━━━━━━━━━━━━━━━━━━━━━\u001b[0m \u001b[32m63.2/63.2 kB\u001b[0m \u001b[31m5.3 MB/s\u001b[0m eta \u001b[36m0:00:00\u001b[0m\n",
            "\u001b[?25h\u001b[?25l   \u001b[90m━━━━━━━━━━━━━━━━━━━━━━━━━━━━━━━━━━━━━━━━\u001b[0m \u001b[32m0.0/165.6 kB\u001b[0m \u001b[31m?\u001b[0m eta \u001b[36m-:--:--\u001b[0m\r\u001b[2K   \u001b[90m━━━━━━━━━━━━━━━━━━━━━━━━━━━━━━━━━━━━━━━━\u001b[0m \u001b[32m165.6/165.6 kB\u001b[0m \u001b[31m15.0 MB/s\u001b[0m eta \u001b[36m0:00:00\u001b[0m\n",
            "\u001b[?25h\u001b[?25l   \u001b[90m━━━━━━━━━━━━━━━━━━━━━━━━━━━━━━━━━━━━━━━━\u001b[0m \u001b[32m0.0/45.2 kB\u001b[0m \u001b[31m?\u001b[0m eta \u001b[36m-:--:--\u001b[0m\r\u001b[2K   \u001b[90m━━━━━━━━━━━━━━━━━━━━━━━━━━━━━━━━━━━━━━━━\u001b[0m \u001b[32m45.2/45.2 kB\u001b[0m \u001b[31m3.5 MB/s\u001b[0m eta \u001b[36m0:00:00\u001b[0m\n",
            "\u001b[?25h"
          ]
        }
      ]
    },
    {
      "cell_type": "code",
      "source": [
        "import os\n",
        "from superwise_api.superwise_client import SuperwiseClient\n",
        "\n",
        "os.environ['SUPERWISE_CLIENT_ID'] = '<your_superwise_client_id>'\n",
        "os.environ['SUPERWISE_CLIENT_SECRET'] = '<your_superwise_client_secret'\n",
        "\n",
        "sw = SuperwiseClient()"
      ],
      "metadata": {
        "id": "P0Ab1wAxEfnI"
      },
      "execution_count": 56,
      "outputs": []
    },
    {
      "cell_type": "code",
      "source": [
        "#Create your agent to receive an application request for moon distance\n",
        "from superwise_api.models.application.application import AdvancedAgentConfig\n",
        "\n",
        "app = sw.application.create(\n",
        "    name=\"Mark_dsl-spa_Example\",\n",
        "    additional_config=AdvancedAgentConfig(tools=[]),\n",
        "    llm_model=None\n",
        ")"
      ],
      "metadata": {
        "id": "40C-w_7uF0wk"
      },
      "execution_count": 57,
      "outputs": []
    },
    {
      "cell_type": "code",
      "source": [
        "#Add your choice of LLM to the Agent\n",
        "from superwise_api.models.application.application import OpenAIModel, OpenAIModelVersion\n",
        "from superwise_api.models.application.application import AdvancedAgentConfig\n",
        "\n",
        "llm_model = OpenAIModel(version=OpenAIModelVersion.GPT_4, api_token=\"<your_open_api_key>\")\n",
        "app = sw.application.put(str(app.id),\n",
        "                         additional_config=AdvancedAgentConfig(tools=[]),\n",
        "                         llm_model=llm_model,\n",
        "                         prompt=None,\n",
        "                         name=\"Mark_dsl-spa_Example\"\n",
        "                        )"
      ],
      "metadata": {
        "id": "IWcpAbN1GOzf"
      },
      "execution_count": 58,
      "outputs": []
    },
    {
      "cell_type": "code",
      "source": [
        "#test the connection to the agent\n",
        "try:\n",
        "    sw.application.test_model_connection(llm_model)\n",
        "except Exception as e:\n",
        "    print(\"Model test connection failed!\")\n",
        "\n",
        "print(\"Model test connection success!\")"
      ],
      "metadata": {
        "colab": {
          "base_uri": "https://localhost:8080/"
        },
        "id": "YyDkGDRxGcwh",
        "outputId": "8d30891d-5ef5-4423-8644-a9167d9a14f3"
      },
      "execution_count": 59,
      "outputs": [
        {
          "output_type": "stream",
          "name": "stdout",
          "text": [
            "Model test connection success!\n"
          ]
        }
      ]
    },
    {
      "cell_type": "code",
      "source": [
        "#test the agent\n",
        "swe_answer = sw.application.ask_playground(\n",
        "  input=\"What is the capital of France?\",\n",
        "  llm_model=llm_model,\n",
        "  prompt=\"Just another promp\",\n",
        "  chat_history=[],\n",
        "  additional_config=AdvancedAgentConfig(tools=[]) # Pass an AdvancedAgentConfig object\n",
        ")\n",
        "print(swe_answer)"
      ],
      "metadata": {
        "colab": {
          "base_uri": "https://localhost:8080/"
        },
        "id": "q6tOidnUGvCE",
        "outputId": "31bfc23e-febb-4773-c555-778e90e7556e"
      },
      "execution_count": 60,
      "outputs": [
        {
          "output_type": "stream",
          "name": "stdout",
          "text": [
            "output='The capital of France is Paris.' metadata=ResponseMetadata(cite_sources=None, debug_metadata=DebugMetadata(question='What is the capital of France?', answer='The capital of France is Paris.', start_time=datetime.datetime(2025, 7, 1, 20, 24, 55, 101553, tzinfo=TzInfo(UTC)), end_time=datetime.datetime(2025, 7, 1, 20, 24, 57, 321849, tzinfo=TzInfo(UTC)), intermediate_steps=[IntermediateStep(start_time=datetime.datetime(2025, 7, 1, 20, 24, 55, 116565), end_time=datetime.datetime(2025, 7, 1, 20, 24, 57, 318086), input_data='Human: You are an Assistant, respond to the human as helpfully and accurately as possible.\\n\\nTOOLS:\\n------\\n\\nAssistant has access to the following tools, but it might also get zero tools in some cases, in which case you should just respond to the Human.\\n\\nHere are the tools that Assistant has access to, if this is empty, then Assistant has no tools to use:\\n\\n\\n\\nTo use a tool, please use the following format:\\n\\n```\\nThought: Do I need to use a tool? Yes\\nAction: the action to take, should be one of []\\nAction Input: the input to the action\\nObservation: the result of the action\\n```\\n\\nWhen you have a response to say to the Human, or if you do not need to use a tool, you must use\\nextended Markdown format if it makes the response more human-readable and you MUST use the format:\\n\\nThought: Do I need to use a tool? No\\nFinal Answer: [your response here]\\n\\nBegin!\\n\\nPrevious conversation history:\\n\\n\\nAssistant MUST follow the given instruction when given the final answer:\\n##\\nJust another promp\\n###\\n\\nNew input: What is the capital of France?\\n\\n', output_data='Thought: Do I need to use a tool? No\\nFinal Answer: The capital of France is Paris.')]))\n"
          ]
        }
      ]
    },
    {
      "cell_type": "code",
      "source": [
        "#add a prompt to direct the output to be only what is needed for the dsl-spa agent\n",
        "example_prompt = \"You are an expert in finding a number value in a prompt.  Return the number in the following format: { 'col1': number, 'pipeline': 'my_pipeline' }. Only return that format and no other text.\""
      ],
      "metadata": {
        "id": "iyKUUdocouB8"
      },
      "execution_count": 101,
      "outputs": []
    },
    {
      "cell_type": "code",
      "source": [
        "#test the agent with the updated prompt\n",
        "swe_answer = sw.application.ask_playground(\n",
        "  input=\"What is the 8th value?\",\n",
        "  llm_model=llm_model,\n",
        "  prompt=example_prompt,\n",
        "  chat_history=[],\n",
        "  additional_config=AdvancedAgentConfig(tools=[]) # Pass an AdvancedAgentConfig object\n",
        ")\n",
        "print(swe_answer)"
      ],
      "metadata": {
        "colab": {
          "base_uri": "https://localhost:8080/"
        },
        "id": "jXn8VNRLHEkh",
        "outputId": "7f861fea-34b9-4716-b3e3-cba182e91049"
      },
      "execution_count": 102,
      "outputs": [
        {
          "output_type": "stream",
          "name": "stdout",
          "text": [
            "output=\"{ 'col1': 8, 'pipeline': 'my_pipeline' }\" metadata=ResponseMetadata(cite_sources=None, debug_metadata=DebugMetadata(question='What is the 8th value?', answer=\"{ 'col1': 8, 'pipeline': 'my_pipeline' }\", start_time=datetime.datetime(2025, 7, 1, 21, 7, 21, 374982, tzinfo=TzInfo(UTC)), end_time=datetime.datetime(2025, 7, 1, 21, 7, 23, 432765, tzinfo=TzInfo(UTC)), intermediate_steps=[IntermediateStep(start_time=datetime.datetime(2025, 7, 1, 21, 7, 21, 384771), end_time=datetime.datetime(2025, 7, 1, 21, 7, 23, 430391), input_data=\"Human: You are an Assistant, respond to the human as helpfully and accurately as possible.\\n\\nTOOLS:\\n------\\n\\nAssistant has access to the following tools, but it might also get zero tools in some cases, in which case you should just respond to the Human.\\n\\nHere are the tools that Assistant has access to, if this is empty, then Assistant has no tools to use:\\n\\n\\n\\nTo use a tool, please use the following format:\\n\\n```\\nThought: Do I need to use a tool? Yes\\nAction: the action to take, should be one of []\\nAction Input: the input to the action\\nObservation: the result of the action\\n```\\n\\nWhen you have a response to say to the Human, or if you do not need to use a tool, you must use\\nextended Markdown format if it makes the response more human-readable and you MUST use the format:\\n\\nThought: Do I need to use a tool? No\\nFinal Answer: [your response here]\\n\\nBegin!\\n\\nPrevious conversation history:\\n\\n\\nAssistant MUST follow the given instruction when given the final answer:\\n##\\nYou are an expert in finding a number value in a prompt.  Return the number in the following format: { 'col1': number, 'pipeline': 'my_pipeline' }. Only return that format and no other text.\\n###\\n\\nNew input: What is the 8th value?\\n\\n\", output_data=\"Thought: Do I need to use a tool? No\\nFinal Answer: { 'col1': 8, 'pipeline': 'my_pipeline' }\")]))\n"
          ]
        }
      ]
    },
    {
      "cell_type": "code",
      "source": [
        "#this works in the playground, now lets use the deployed Superwise application\n",
        "app = sw.application.put(str(app.id),\n",
        "                         additional_config=AdvancedAgentConfig(tools=[]),\n",
        "                         llm_model=llm_model,\n",
        "                         prompt=example_prompt,\n",
        "                         name=\"Mark_dsl-spa_Example\"\n",
        "                        )"
      ],
      "metadata": {
        "id": "pXH2APZzrqWf"
      },
      "execution_count": 103,
      "outputs": []
    },
    {
      "cell_type": "code",
      "source": [
        "#get the app id and the app token\n",
        "app_id = sw.application.get(name=\"Mark_dsl-spa_Example\").items[0].id\n",
        "app_token = str(sw.application.get(name=\"Mark_dsl-spa_Example\").items[0].api_token)\n",
        "#print(app_id)\n",
        "#print(app_token)"
      ],
      "metadata": {
        "id": "N99s93YysGVW"
      },
      "execution_count": 118,
      "outputs": []
    },
    {
      "cell_type": "code",
      "source": [
        "import requests\n",
        "import json"
      ],
      "metadata": {
        "id": "zkL7pgaAs6Ex"
      },
      "execution_count": 74,
      "outputs": []
    },
    {
      "cell_type": "code",
      "source": [
        "def ask_application_via_api(app_id, user_input):\n",
        "  endpoint_url = f\"https://api.superwise.ai/v1/app-worker/{app_id}/v1/ask\"\n",
        "\n",
        "  #print(app_id)\n",
        "  #print(user_input)\n",
        "  #print(app_token)\n",
        "\n",
        "  payload = {\n",
        "    \"chat_history\": [],\n",
        "    \"input\": user_input,\n",
        "    #\"prompt\": prompt\n",
        "  }\n",
        "\n",
        "  headers = {\n",
        "    \"accept\": \"application/json\",\n",
        "    \"content-type\": \"application/json\",\n",
        "    \"x-api-token\": app_token\n",
        "}\n",
        "\n",
        "  resp = requests.post(endpoint_url, json=payload, headers=headers)\n",
        "  app_response = resp.json()\n",
        "  return app_response"
      ],
      "metadata": {
        "id": "SCrabvt9sU-j"
      },
      "execution_count": 92,
      "outputs": []
    },
    {
      "cell_type": "code",
      "source": [
        "ask_application_via_api(app_id, \"What is the value associated with the input 6\")[\"output\"]"
      ],
      "metadata": {
        "colab": {
          "base_uri": "https://localhost:8080/",
          "height": 35
        },
        "id": "GWOIowA-snG9",
        "outputId": "10eeba9b-490f-4ecf-8b52-8bebb55c3e3d"
      },
      "execution_count": 104,
      "outputs": [
        {
          "output_type": "execute_result",
          "data": {
            "text/plain": [
              "\"{ 'col1': 6, 'pipeline': 'my_pipeline' }\""
            ],
            "application/vnd.google.colaboratory.intrinsic+json": {
              "type": "string"
            }
          },
          "metadata": {},
          "execution_count": 104
        }
      ]
    },
    {
      "cell_type": "markdown",
      "source": [
        "Lets see what we get when we input the text that the generic llm (pandas AI) to dataframe could not handle"
      ],
      "metadata": {
        "id": "V_E_uQX1tFpo"
      }
    },
    {
      "cell_type": "code",
      "source": [
        "ask_application_via_api(app_id, \"when col1 equals 1, what is the col4 row value\")[\"output\"]"
      ],
      "metadata": {
        "colab": {
          "base_uri": "https://localhost:8080/",
          "height": 35
        },
        "id": "c6-CP4Q3tEdY",
        "outputId": "33cbaffa-a96b-452f-8296-7ad470fd933d"
      },
      "execution_count": 105,
      "outputs": [
        {
          "output_type": "execute_result",
          "data": {
            "text/plain": [
              "\"{ 'col1': 1, 'pipeline': 'my_pipeline' }\""
            ],
            "application/vnd.google.colaboratory.intrinsic+json": {
              "type": "string"
            }
          },
          "metadata": {},
          "execution_count": 105
        }
      ]
    },
    {
      "cell_type": "markdown",
      "source": [
        "Good, lets try one of the other ones to make sure it still returns that structure"
      ],
      "metadata": {
        "id": "ymzO88-ouJb4"
      }
    },
    {
      "cell_type": "code",
      "source": [
        "ask_application_via_api(app_id, \"if col1 equals 1, what is the value in col4 when col3 equals col1\")[\"output\"]"
      ],
      "metadata": {
        "colab": {
          "base_uri": "https://localhost:8080/",
          "height": 35
        },
        "id": "MRJd68S2uOvb",
        "outputId": "cbf78b57-3c2c-4290-f12a-b8acd68d46ce"
      },
      "execution_count": 106,
      "outputs": [
        {
          "output_type": "execute_result",
          "data": {
            "text/plain": [
              "\"{ 'col1': 1, 'pipeline': 'my_pipeline' }\""
            ],
            "application/vnd.google.colaboratory.intrinsic+json": {
              "type": "string"
            }
          },
          "metadata": {},
          "execution_count": 106
        }
      ]
    },
    {
      "cell_type": "markdown",
      "source": [
        "#**Now simply flow the output of the Superwise Agent into dsl-spa**"
      ],
      "metadata": {
        "id": "Y3ktDl1lpgif"
      }
    },
    {
      "cell_type": "code",
      "source": [
        "# we need to convert the Superwise string output to JSON"
      ],
      "metadata": {
        "id": "CwN3j7Hwvu9v"
      },
      "execution_count": 80,
      "outputs": []
    },
    {
      "cell_type": "code",
      "source": [
        "# prompt: convert the output from ask_application_via_api from string to json\n",
        "\n",
        "output_string = ask_application_via_api(app_id, \"when col1 equals 1, what is the col4 row value\")[\"output\"]\n",
        "print(output_string)\n",
        "output_string = output_string.replace(\"'\", '\"')\n",
        "print(output_string)\n",
        "output_json = json.loads(output_string)\n",
        "output_json\n"
      ],
      "metadata": {
        "colab": {
          "base_uri": "https://localhost:8080/"
        },
        "id": "kgu45QUyv1r8",
        "outputId": "7c84792c-6958-4df6-8691-66b1cfb9928f"
      },
      "execution_count": 107,
      "outputs": [
        {
          "output_type": "stream",
          "name": "stdout",
          "text": [
            "{ 'col1': 1, 'pipeline': 'my_pipeline' }\n",
            "{ \"col1\": 1, \"pipeline\": \"my_pipeline\" }\n"
          ]
        },
        {
          "output_type": "execute_result",
          "data": {
            "text/plain": [
              "{'col1': 1, 'pipeline': 'my_pipeline'}"
            ]
          },
          "metadata": {},
          "execution_count": 107
        }
      ]
    },
    {
      "cell_type": "code",
      "source": [
        "#{'col1': 7, 'pipeline': 'my_pipeline'}"
      ],
      "metadata": {
        "id": "f8bWccDjzm4b"
      },
      "execution_count": null,
      "outputs": []
    },
    {
      "cell_type": "code",
      "source": [
        "input = \"when col1 equals 1, what is the col4 row value\"\n",
        "#print(input)\n",
        "output_from_superwise = ask_application_via_api(app_id, input)[\"output\"]\n",
        "output_from_superwise = output_from_superwise.replace(\"'\", '\"')\n",
        "#print(output_from_superwise)\n",
        "output_superwise_json = json.loads(output_from_superwise)\n",
        "#print(output_superwise_json)\n",
        "my_pipeline = StandardPipeline(fields_input_dict = output_superwise_json, json_schema = my_schema, connectors = connector_dict, functions = {\"find_col_4_value\": modified_find_and_return_col4})\n",
        "# Runs the pipeline\n",
        "my_pipeline.initialize_data()\n",
        "my_pipeline.process_data()\n",
        "my_pipeline.get_summary()"
      ],
      "metadata": {
        "colab": {
          "base_uri": "https://localhost:8080/",
          "height": 35
        },
        "id": "SLqDTpwpqCM1",
        "outputId": "deb8c422-faf3-4efd-e292-82bd070ddfc4"
      },
      "execution_count": 109,
      "outputs": [
        {
          "output_type": "execute_result",
          "data": {
            "text/plain": [
              "'Alpha'"
            ],
            "application/vnd.google.colaboratory.intrinsic+json": {
              "type": "string"
            }
          },
          "metadata": {},
          "execution_count": 109
        }
      ]
    },
    {
      "cell_type": "markdown",
      "source": [
        "Let's make it a little cleaner with a function"
      ],
      "metadata": {
        "id": "RR0mkxxV01DU"
      }
    },
    {
      "cell_type": "code",
      "source": [
        "def input_with_agent_and_superwise(input):\n",
        "  output_from_superwise = ask_application_via_api(app_id, input)[\"output\"]\n",
        "  output_from_superwise = output_from_superwise.replace(\"'\", '\"')\n",
        "  output_superwise_json = json\n",
        "  output_superwise_json = json.loads(output_from_superwise)\n",
        "  my_pipeline = StandardPipeline(fields_input_dict = output_superwise_json, json_schema = my_schema, connectors = connector_dict, functions = {\"find_col_4_value\": modified_find_and_return_col4})\n",
        "  my_pipeline.initialize_data()\n",
        "  my_pipeline.process_data()\n",
        "  return my_pipeline.get_summary()"
      ],
      "metadata": {
        "id": "BCuSIY5z1L9N"
      },
      "execution_count": 110,
      "outputs": []
    },
    {
      "cell_type": "code",
      "source": [
        "new_input = \"if col1 equals 10, what is the value in col4 when col3 equals col1\""
      ],
      "metadata": {
        "id": "a9JG7vyN1ihj"
      },
      "execution_count": 113,
      "outputs": []
    },
    {
      "cell_type": "code",
      "source": [
        "input_with_agent_and_superwise(new_input)"
      ],
      "metadata": {
        "colab": {
          "base_uri": "https://localhost:8080/",
          "height": 35
        },
        "id": "xNIS67Et1qH3",
        "outputId": "1ed931fc-97ea-407c-973e-1186b0693cb5"
      },
      "execution_count": 114,
      "outputs": [
        {
          "output_type": "execute_result",
          "data": {
            "text/plain": [
              "'Juliett'"
            ],
            "application/vnd.google.colaboratory.intrinsic+json": {
              "type": "string"
            }
          },
          "metadata": {},
          "execution_count": 114
        }
      ]
    },
    {
      "cell_type": "code",
      "source": [
        "null_input = \"what is the 14th one?\""
      ],
      "metadata": {
        "id": "p2BTH6m31tpZ"
      },
      "execution_count": 115,
      "outputs": []
    },
    {
      "cell_type": "code",
      "source": [
        "input_with_agent_and_superwise(null_input)"
      ],
      "metadata": {
        "colab": {
          "base_uri": "https://localhost:8080/",
          "height": 35
        },
        "id": "vV_xiH2M2BLj",
        "outputId": "ccc6c2fc-e889-4797-b2d5-16d7e47399b6"
      },
      "execution_count": 116,
      "outputs": [
        {
          "output_type": "execute_result",
          "data": {
            "text/plain": [
              "'Value not found'"
            ],
            "application/vnd.google.colaboratory.intrinsic+json": {
              "type": "string"
            }
          },
          "metadata": {},
          "execution_count": 116
        }
      ]
    },
    {
      "cell_type": "markdown",
      "source": [
        "***That is it.  We overcame the challenge of complex queries while still leveraging natural language. But, there are lots more you can do with [dsl-spa](https://github.com/superwise-ai/dsl-spa) including generating summaries under which to ask follow on questions and generating visualizations from those summaries.  And there is a lot more you can do with [Superwise](https://docs-swe.superwise.ai/) including adding guardrails, setting policies, monitoring usage and getting alerts***"
      ],
      "metadata": {
        "id": "KR66NSw82eRc"
      }
    },
    {
      "cell_type": "code",
      "source": [],
      "metadata": {
        "id": "hslSvshC274F"
      },
      "execution_count": null,
      "outputs": []
    }
  ]
}