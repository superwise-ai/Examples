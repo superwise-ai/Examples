{
 "cells": [
  {
   "cell_type": "markdown",
   "id": "3d5cf2a4",
   "metadata": {},
   "source": [
    "# Using Superwise's Basic LLM Agent for Intermediate Language Generation"
   ]
  },
  {
   "cell_type": "code",
   "execution_count": null,
   "id": "f1f270f2",
   "metadata": {},
   "outputs": [],
   "source": [
    "!pip install superwise-api --quiet"
   ]
  },
  {
   "cell_type": "markdown",
   "id": "3cc84e19",
   "metadata": {},
   "source": [
    "### Configure Superwise Connection"
   ]
  },
  {
   "cell_type": "code",
   "execution_count": null,
   "id": "d3a6d4e0",
   "metadata": {},
   "outputs": [],
   "source": [
    "import os\n",
    "from superwise_api.superwise_client import SuperwiseClient\n",
    "\n",
    "os.environ['SUPERWISE_CLIENT_ID'] = ''\n",
    "os.environ['SUPERWISE_CLIENT_SECRET'] = ''\n",
    "\n",
    "sw = SuperwiseClient()    \n"
   ]
  },
  {
   "cell_type": "markdown",
   "id": "8df6e2df",
   "metadata": {},
   "source": [
    "## Create Superwise Application"
   ]
  },
  {
   "cell_type": "markdown",
   "id": "6e31b695",
   "metadata": {},
   "source": [
    "First let's select an LLM to use with Superwise. Here we use GPT-3.5-Turbo. When converting from natural language to a simple intermediate language, we do not need a very powerful LLM. Even smaller models like the 3 billion paramater Llama model work."
   ]
  },
  {
   "cell_type": "code",
   "execution_count": null,
   "id": "8ba087ce",
   "metadata": {},
   "outputs": [],
   "source": [
    "from superwise_api.models.application.application import OpenAIModel, OpenAIModelVersion\n",
    "\n",
    "llm_model = OpenAIModel(version=OpenAIModelVersion.GPT_3_5_TURBO, api_token=\"Open API token\")"
   ]
  },
  {
   "cell_type": "markdown",
   "id": "dc87f43b",
   "metadata": {},
   "source": [
    "Next we need to build the prompt for our intermediate language. "
   ]
  },
  {
   "cell_type": "markdown",
   "id": "32f6dc37",
   "metadata": {},
   "source": [
    "### Define the Schema\n",
    "\n",
    "In this notebook, we use json to format our intermediate language and define the schema as:\n",
    "```\n",
    "{\n",
    "    “customer_name”: <customer_name>,\n",
    "    “request”: <request_type>,\n",
    "    “start_date”: <start_date>,\n",
    "    “end_date”: <end_date>\n",
    "}\n",
    "```\n",
    "where request type is exclusive to \"customer\" or \"transactions\"."
   ]
  },
  {
   "cell_type": "markdown",
   "id": "8efe6e58",
   "metadata": {},
   "source": [
    "### Build the Prompt\n",
    "\n",
    "When we build the prompt, we indicate to the LLM that its task is to translate between Natural Language and our intermediate language, provide it with the definition of the intermediate language, and then provide it a few examples of translation.\n",
    "\n",
    "It is always helpful for the LLM to provide a few example inputs and their output in the intermediate language. The few-shot training does not need to be a robust defintion of every possible question type but should be enough to cover all the bases of the language so the LLM can infer context for the ."
   ]
  },
  {
   "cell_type": "code",
   "execution_count": null,
   "id": "9d996c54",
   "metadata": {},
   "outputs": [],
   "source": [
    "# Change this prompt to use your own Intermediate Language. \n",
    "# Few-shot training at the end of the prompt is recommended for best results.\n",
    "\n",
    "prompt = \"\"\"Act as a natural language interpreter. Below is a a JSON Schema. Your response should always be in this schema.\n",
    "\n",
    "Schema:\n",
    "{{\n",
    "    “customer_name”: <customer_name>,\n",
    "    “request”: <request_type>,\n",
    "    “start_date”: <start_date>,\n",
    "    “end_date”: <end_date>\n",
    "}}\n",
    "\n",
    "The allowed values for request are \"customer\" or \"transactions\". The start date and end dates are optional but should always be in \"YYYY-MM-DD\" format.\n",
    "\n",
    "Here are some examples of natural language inputs and their schema output.\n",
    "If prompted with \"Details for Box Company\" respond:\n",
    "{{\n",
    "    “customer_name”: \"Box Company\",\n",
    "    “request”: \"customer\"\n",
    "}}\n",
    "If prompted with \"2024 transactions for Store LLC\" respond:\n",
    "{{\n",
    "    “customer_name”: \"Store LLC\",\n",
    "    “request”: \"transactions\",\n",
    "    “start_date”: \"2024-01-01\",\n",
    "    “end_date”: \"2024-12-31\"\n",
    "}}\n",
    "If prompted with \"Transactions for Job Corporation since June 2022\" respond:\n",
    "{{\n",
    "    “customer_name”: \"Store LLC\",\n",
    "    “request”: \"transactions\",\n",
    "    “start_date”: \"2022-06-01\"\n",
    "}}\n",
    "\"\"\""
   ]
  },
  {
   "cell_type": "code",
   "execution_count": null,
   "id": "90b18244",
   "metadata": {},
   "outputs": [],
   "source": [
    "from superwise_api.models.application.application import BasicLLMConfig\n",
    "\n",
    "app = sw.application.create(\n",
    "    name=\"NL-to-DSL\",\n",
    "    additional_config=BasicLLMConfig(),\n",
    "    llm_model=llm_model,\n",
    "  \tprompt=prompt\n",
    ")\n",
    "app_id = app.id"
   ]
  },
  {
   "cell_type": "markdown",
   "id": "0b899c8e",
   "metadata": {},
   "source": [
    "# Test Application"
   ]
  },
  {
   "cell_type": "code",
   "execution_count": 4,
   "id": "0c4e4466",
   "metadata": {},
   "outputs": [],
   "source": [
    "def ask_swe_playground(superwise_client: SuperwiseClient, application_id, user_input):\n",
    "    app = superwise_client.application.get_by_id(application_id)\n",
    "\n",
    "    application_response = superwise_client.application.ask_playground(input=user_input,\n",
    "                                                        llm_model=app.llm_model,\n",
    "                                                        prompt=app.prompt,\n",
    "                                                        additional_config=app.additional_config,\n",
    "                                                        chat_history=[])\n",
    "\n",
    "    return application_response.output"
   ]
  },
  {
   "cell_type": "code",
   "execution_count": null,
   "id": "1b83e2e9",
   "metadata": {},
   "outputs": [
    {
     "name": "stdout",
     "output_type": "stream",
     "text": [
      "User Input: Details for Superwise\n",
      "{\n",
      "    “customer_name”: \"Superwise\",\n",
      "    “request”: \"customer\"\n",
      "}\n",
      "---------------------------------------------------\n",
      "User Input: 2020 transactions for Suits and Things LLC\n",
      "{\n",
      "    “customer_name”: \"Suits and Things LLC\",\n",
      "    “request”: \"transactions\",\n",
      "    “start_date”: \"2020-01-01\",\n",
      "    “end_date”: \"2020-12-31\"\n",
      "}\n",
      "---------------------------------------------------\n",
      "User Input: Sales for Bag Company in August of 2023\n",
      "{\n",
      "    “customer_name”: \"Bag Company\",\n",
      "    “request”: \"transactions\",\n",
      "    “start_date”: \"2023-08-01\",\n",
      "    “end_date”: \"2023-08-31\"\n",
      "}\n",
      "---------------------------------------------------\n",
      "User Input: Details for Tile LLC through the end of 2022\n",
      "{\n",
      "    “customer_name”: \"Tile LLC\",\n",
      "    “request”: \"customer\",\n",
      "    “end_date”: \"2022-12-31\"\n",
      "}\n",
      "---------------------------------------------------\n"
     ]
    }
   ],
   "source": [
    "# Let's create some prompts and test out our application\n",
    "user_inputs = [\"Details for Superwise\", \n",
    "               \"2020 transactions for Suits and Things LLC\",\n",
    "               \"Sales for Bag Company in August of 2023\",\n",
    "               \"Details for Tile LLC through the end of 2022\"]\n",
    "for user_input in user_inputs:\n",
    "    print(f\"User Input: {user_input}\")\n",
    "    sw_response = ask_swe_playground(superwise_client=sw, application_id=app_id, user_input=user_input)\n",
    "    print(sw_response)\n",
    "    print(\"---------------------------------------------------\")"
   ]
  },
  {
   "cell_type": "markdown",
   "id": "78f77b6d",
   "metadata": {},
   "source": [
    "Testing our application, the superwise application leveraging GPT-3.5-Turbo was able to accurately infer the schema. It not only inferred the example schema provided by the few-shot training but was also able to extend that few-shot training to examples available within the defined intermediate language but outside of any of the shots provided in the prompt!"
   ]
  }
 ],
 "metadata": {
  "kernelspec": {
   "display_name": "Python 3",
   "language": "python",
   "name": "python3"
  },
  "language_info": {
   "codemirror_mode": {
    "name": "ipython",
    "version": 3
   },
   "file_extension": ".py",
   "mimetype": "text/x-python",
   "name": "python",
   "nbconvert_exporter": "python",
   "pygments_lexer": "ipython3",
   "version": "3.11.3"
  }
 },
 "nbformat": 4,
 "nbformat_minor": 5
}
